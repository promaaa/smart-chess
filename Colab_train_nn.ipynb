{
 "cells": [
  {
   "cell_type": "markdown",
   "id": "e209c37b",
   "metadata": {},
   "source": [
    "# Notebook: Entraînement NN sur Google Colab\n",
    "\n",
    "Ce notebook montre comment préparer l'environnement Colab, monter Google Drive, installer les dépendances, charger les données du dépôt `smart-chess` et lancer l'entraînement via `ai/train_torch.py`.\n",
    "\n",
    "Instructions rapides :\n",
    "- Ouvrez Runtime -> Change runtime type -> GPU\n",
    "- Montez Google Drive si vous voulez sauvegarder checkpoints persistants\n",
    "- Placez votre dataset `chessData.csv` dans le dossier du projet (ou copiez-le depuis Drive)\n"
   ]
  },
  {
   "cell_type": "markdown",
   "id": "bfb8e222",
   "metadata": {},
   "source": [
    "## Avant de commencer — choisissez runtime GPU\n",
    "\n",
    "Assurez-vous d'avoir sélectionné Runtime -> Change runtime type -> GPU dans Google Colab.\n",
    "\n",
    "Ce bloc affiche la version de Python, la version de torch et si un GPU est disponible."
   ]
  },
  {
   "cell_type": "code",
   "execution_count": null,
   "id": "fdb25ec5",
   "metadata": {},
   "outputs": [],
   "source": [
    "# Vérification GPU et versions\n",
    "import sys\n",
    "import platform\n",
    "\n",
    "print('Python:', sys.version)\n",
    "print('Platform:', platform.platform())\n",
    "\n",
    "try:\n",
    "    import torch\n",
    "    print('PyTorch:', torch.__version__)\n",
    "    print('CUDA available:', torch.cuda.is_available())\n",
    "    if torch.cuda.is_available():\n",
    "        print('Device name:', torch.cuda.get_device_name(0))\n",
    "        prop = torch.cuda.get_device_properties(0)\n",
    "        print(f'  Total memory: {prop.total_memory / 1e9:.2f} GB')\n",
    "except Exception as e:\n",
    "    print('PyTorch non installé ou erreur:', e)\n"
   ]
  },
  {
   "cell_type": "code",
   "execution_count": null,
   "id": "033e3dff",
   "metadata": {},
   "outputs": [],
   "source": [
    "# Installer / mettre à jour dépendances (exécuter seulement si nécessaire)\n",
    "# En Colab, PyTorch est souvent préinstallé. Décommentez la ligne d'installation si besoin.\n",
    "\n",
    "# %%bash\n",
    "# pip install -q torch torchvision torchaudio\n",
    "\n",
    "# Dépendances utiles\n",
    "!pip install -q pandas tqdm numpy\n",
    "\n",
    "print('Installation effectuée (ou déjà présente).')\n"
   ]
  },
  {
   "cell_type": "markdown",
   "id": "8b3b6950",
   "metadata": {},
   "source": [
    "## Monter Google Drive\n",
    "\n",
    "Montez Google Drive pour sauvegarder checkpoints et datasets persistants. Exécutez cette cellule et suivez l'URL d'authentification.\n",
    "\n",
    "Remarque : l'emplacement `MyDrive` est accessible sous `/content/drive/MyDrive`.\n"
   ]
  },
  {
   "cell_type": "code",
   "execution_count": null,
   "id": "d61698bb",
   "metadata": {},
   "outputs": [],
   "source": [
    "# Code : monter Drive et créer dossier de checkpoints\n",
    "try:\n",
    "    from google.colab import drive\n",
    "    drive.mount('/content/drive')\n",
    "    import os\n",
    "    ckpt_dir = '/content/drive/MyDrive/smart-chess-checkpoints'\n",
    "    os.makedirs(ckpt_dir, exist_ok=True)\n",
    "    print('Drive monté et dossier de checkpoints prêt:', ckpt_dir)\n",
    "except Exception as e:\n",
    "    print('Erreur (peut-être non exécuté sur Colab) :', e)\n",
    "    print('Si vous n\\'êtes pas sur Colab, créez un dossier local pour les checkpoints.')\n"
   ]
  },
  {
   "cell_type": "markdown",
   "id": "a1ddc884",
   "metadata": {},
   "source": [
    "## Obtenir le code du dépôt\n",
    "\n",
    "Option A — Cloner depuis GitHub (rapide) :\n",
    "\n",
    "- Avantage : récupère la version du dépôt telle qu'elle est sur GitHub.\n",
    "- Si vous avez des modifications locales, préférez copier depuis Drive.\n"
   ]
  },
  {
   "cell_type": "code",
   "execution_count": null,
   "id": "429d639f",
   "metadata": {},
   "outputs": [],
   "source": [
    "# Cloner le repo GitHub (décommentez si besoin)\n",
    "# !git clone https://github.com/promaaa/smart-chess.git /content/smart-chess\n",
    "# %cd /content/smart-chess\n",
    "\n",
    "# Ou, si vous avez uploadé le repo dans Drive, copiez depuis Drive:\n",
    "# !cp -r /content/drive/MyDrive/path/to/smart-chess /content/smart-chess\n",
    "\n",
    "print('Si le repo n\\'est pas présent, décommentez et exécutez la commande git clone ci-dessus.')\n"
   ]
  },
  {
   "cell_type": "markdown",
   "id": "821106cc",
   "metadata": {},
   "source": [
    "## Configurer le répertoire de travail et vérifier les fichiers importants\n",
    "\n",
    "Le code d'entraînement se trouve dans `ai/train_torch.py` et `ai/train.py`. Assurez-vous que le dossier `smart-chess` est dans `/content` ou montez le chemin depuis Drive.\n"
   ]
  },
  {
   "cell_type": "code",
   "execution_count": null,
   "id": "a654d984",
   "metadata": {},
   "outputs": [],
   "source": [
    "# Exemple : définir le répertoire de travail et ajouter le repo au PYTHONPATH\n",
    "import os, sys\n",
    "\n",
    "# Ajustez si vous avez cloné dans /content/smart-chess ou copié depuis Drive\n",
    "repo_path = '/content/smart-chess'\n",
    "if not os.path.exists(repo_path):\n",
    "    # Si le repo est dans Drive, vous pouvez le pointer ici :\n",
    "    repo_path = '/content/drive/MyDrive/smart-chess'  # ajustez selon votre arborescence Drive\n",
    "\n",
    "print('Repo path:', repo_path)\n",
    "if os.path.exists(repo_path):\n",
    "    sys.path.insert(0, repo_path)\n",
    "    os.chdir(repo_path)\n",
    "    print('Contenu du repo (quelques fichiers):')\n",
    "    print(os.listdir(repo_path)[:30])\n",
    "else:\n",
    "    print('Repo introuvable. Clonez-le ou copiez-le depuis Drive avant de continuer.')\n"
   ]
  },
  {
   "cell_type": "markdown",
   "id": "20022080",
   "metadata": {},
   "source": [
    "## Préparer / vérifier le dataset\n",
    "\n",
    "Le script d'entraînement attend un fichier `chessData.csv` (format FEN,Evaluation). Placez-le à la racine du repo ou dans Drive et mettez à jour `DATASET_PATH` avant d'exécuter l'entraînement.\n",
    "\n",
    "Cette cellule cherche automatiquement le dataset dans plusieurs emplacements et le copie dans `/content/smart-chess` si nécessaire."
   ]
  },
  {
   "cell_type": "code",
   "execution_count": null,
   "id": "9ed78e03",
   "metadata": {},
   "outputs": [],
   "source": [
    "# Chercher le dataset et le copier dans le repo si besoin\n",
    "import os, shutil\n",
    "\n",
    "def find_and_copy_dataset():\n",
    "    possible = [\n",
    "        '/content/smart-chess/chessData.csv',\n",
    "        '/content/drive/MyDrive/chessData.csv',\n",
    "        '/content/drive/MyDrive/smart-chess/chessData.csv'\n",
    "    ]\n",
    "    for p in possible:\n",
    "        if os.path.exists(p):\n",
    "            dest = '/content/smart-chess/chessData.csv'\n",
    "            os.makedirs(os.path.dirname(dest), exist_ok=True)\n",
    "            if os.path.abspath(p) != os.path.abspath(dest):\n",
    "                shutil.copy(p, dest)\n",
    "                print('Dataset copié:', p, '→', dest)\n",
    "            else:\n",
    "                print('Dataset trouvé:', dest)\n",
    "            return dest\n",
    "    print('Dataset non trouvé. Téléversez `chessData.csv` dans Drive ou placez-le dans le repo.')\n",
    "    return None\n",
    "\n",
    "DATASET_PATH = find_and_copy_dataset()\n",
    "print('DATASET_PATH =', DATASET_PATH)\n"
   ]
  },
  {
   "cell_type": "markdown",
   "id": "e53078b1",
   "metadata": {},
   "source": [
    "## Lancer l'entraînement (exemple)\n",
    "\n",
    "Cette cellule montre comment appeler `ai/train_torch.py` depuis le notebook. Vous pouvez surcharger les constantes du module avant d'appeler `main()` pour rediriger les checkpoints vers Drive ou réduire `EPOCHS`/`MAX_SAMPLES` pour un test rapide.\n",
    "\n",
    "Exécutez seulement après avoir copié le dataset et configuré `repo_path`.\n"
   ]
  },
  {
   "cell_type": "code",
   "execution_count": null,
   "id": "3a8577a8",
   "metadata": {},
   "outputs": [],
   "source": [
    "# Exemple d'appel à ai.train_torch\n",
    "import importlib\n",
    "\n",
    "try:\n",
    "    import ai.train_torch as trainer\n",
    "    # Rediriger les fichiers de sortie vers Drive pour persistance\n",
    "    ckpt_dir = '/content/drive/MyDrive/smart-chess-checkpoints'\n",
    "    if os.path.exists(ckpt_dir):\n",
    "        trainer.WEIGHTS_FILE = os.path.join(ckpt_dir, 'chess_nn_weights.npz')\n",
    "        trainer.CHECKPOINT_FILE = os.path.join(ckpt_dir, 'chess_model_checkpoint.pt')\n",
    "    # Réduire pour test rapide\n",
    "    trainer.EPOCHS = 2\n",
    "    trainer.MAX_SAMPLES = 5000\n",
    "    # Si DATASET_PATH trouvé plus haut, l'utiliser\n",
    "    if DATASET_PATH:\n",
    "        trainer.DATASET_PATH = DATASET_PATH\n",
    "\n",
    "    print('Configuration trainer:')\n",
    "    print(' DATASET_PATH=', trainer.DATASET_PATH)\n",
    "    print(' WEIGHTS_FILE=', trainer.WEIGHTS_FILE)\n",
    "    print(' CHECKPOINT_FILE=', trainer.CHECKPOINT_FILE)\n",
    "    print(' EPOCHS=', trainer.EPOCHS)\n",
    "    print(' MAX_SAMPLES=', trainer.MAX_SAMPLES)\n",
    "\n",
    "    # Lancer l'entraînement (bloquant) — surveillez la sortie\n",
    "    trainer.main()\n",
    "\n",
    "except Exception as e:\n",
    "    print('Erreur lors du lancement de l\\'entraînement:', e)\n",
    "    print('Vérifiez que le repo est dans le PYTHONPATH et que les dépendances sont installées.')\n"
   ]
  },
  {
   "cell_type": "markdown",
   "id": "975e9990",
   "metadata": {},
   "source": [
    "## Sauvegarder / copier les checkpoints manuellement vers Drive\n",
    "\n",
    "Si le script a enregistré des fichiers localement, exécutez cette cellule pour les copier dans le dossier Drive `smart-chess-checkpoints`.\n"
   ]
  },
  {
   "cell_type": "code",
   "execution_count": null,
   "id": "2c56649b",
   "metadata": {},
   "outputs": [],
   "source": [
    "# Copier manuellement les fichiers de checkpoint vers Drive\n",
    "import os, shutil\n",
    "ckpt_dir = '/content/drive/MyDrive/smart-chess-checkpoints'\n",
    "files_to_copy = ['chess_model_checkpoint.pt', 'chess_nn_weights.npz']\n",
    "for f in files_to_copy:\n",
    "    if os.path.exists(f):\n",
    "        dest = os.path.join(ckpt_dir, f)\n",
    "        shutil.copy(f, dest)\n",
    "        print('Copié:', f, '→', dest)\n",
    "    else:\n",
    "        print('Fichier absent (pas de sauvegarde locale trouvée) :', f)\n"
   ]
  },
  {
   "cell_type": "markdown",
   "id": "00ef0b61",
   "metadata": {},
   "source": [
    "## Conseils & debug rapide\n",
    "\n",
    "- Pour un test rapide : réduire `trainer.EPOCHS` à 1-2 et `trainer.MAX_SAMPLES` à 1k-5k.\n",
    "- Vérifiez la présence d'un GPU avec `torch.cuda.is_available()` ; ajustez `BATCH_SIZE` si OOM.\n",
    "- Si l'entraînement est lent : augmentez `BATCH_SIZE` et activez `pin_memory=True` (déjà géré dans `train_torch.py`).\n",
    "- Sauvegardes : les fichiers `chess_model_checkpoint.pt` et `chess_nn_weights.npz` sont créés automatiquement si la configuration par défaut est utilisée.\n",
    "- Logs : surveillez la sortie de la cellule d'entraînement pour RMSE / perte et sauvegarde de checkpoint.\n",
    "\n",
    "Si vous voulez, je peux :\n",
    "- Ajuster le notebook pour utiliser `torch.cuda.amp` (mixed precision) pour accélérer l'entraînement sur GPU modernes.\n",
    "- Ajouter une cellule pour visualiser les courbes de loss/metrics après l'entraînement.\n"
   ]
  }
 ],
 "metadata": {
  "language_info": {
   "name": "python"
  }
 },
 "nbformat": 4,
 "nbformat_minor": 5
}
