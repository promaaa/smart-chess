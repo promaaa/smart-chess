{
 "cells": [
  {
   "cell_type": "markdown",
   "id": "12b5a4df",
   "metadata": {
    "id": "12b5a4df"
   },
   "source": [
    "# Entraînement du Neural Network pour Smart Chess sur Google Colab\n",
    "\n",
    "Ce notebook permet d'entraîner le réseau de neurones pour l'évaluation d'échecs en utilisant les ressources GPU de Google Colab.\n",
    "\n",
    "**Chemin du projet sur Drive:** `MyDrive/smart_chess_drive/smart-chess`\n",
    "\n",
    "## Instructions\n",
    "1. Aller dans **Runtime > Change runtime type > GPU** (T4 ou mieux)\n",
    "2. Exécuter les cellules dans l'ordre\n",
    "3. Les modèles seront sauvegardés automatiquement sur votre Drive"
   ]
  },
  {
   "cell_type": "markdown",
   "id": "de1b4590",
   "metadata": {
    "id": "de1b4590"
   },
   "source": [
    "## 1. Vérification GPU"
   ]
  },
  {
   "cell_type": "code",
   "execution_count": 1,
   "id": "8d5e0dc5",
   "metadata": {
    "colab": {
     "base_uri": "https://localhost:8080/"
    },
    "executionInfo": {
     "elapsed": 259,
     "status": "ok",
     "timestamp": 1761591198500,
     "user": {
      "displayName": "Gautier de Marsac",
      "userId": "07528850342203083749"
     },
     "user_tz": -60
    },
    "id": "8d5e0dc5",
    "outputId": "ca00f0f9-44b5-4631-ffe0-069b8dc578c4"
   },
   "outputs": [
    {
     "name": "stdout",
     "output_type": "stream",
     "text": [
      "Mon Oct 27 18:53:18 2025       \n",
      "+-----------------------------------------------------------------------------------------+\n",
      "| NVIDIA-SMI 550.54.15              Driver Version: 550.54.15      CUDA Version: 12.4     |\n",
      "|-----------------------------------------+------------------------+----------------------+\n",
      "| GPU  Name                 Persistence-M | Bus-Id          Disp.A | Volatile Uncorr. ECC |\n",
      "| Fan  Temp   Perf          Pwr:Usage/Cap |           Memory-Usage | GPU-Util  Compute M. |\n",
      "|                                         |                        |               MIG M. |\n",
      "|=========================================+========================+======================|\n",
      "|   0  Tesla T4                       Off |   00000000:00:04.0 Off |                    0 |\n",
      "| N/A   62C    P8             11W /   70W |       0MiB /  15360MiB |      0%      Default |\n",
      "|                                         |                        |                  N/A |\n",
      "+-----------------------------------------+------------------------+----------------------+\n",
      "                                                                                         \n",
      "+-----------------------------------------------------------------------------------------+\n",
      "| Processes:                                                                              |\n",
      "|  GPU   GI   CI        PID   Type   Process name                              GPU Memory |\n",
      "|        ID   ID                                                               Usage      |\n",
      "|=========================================================================================|\n",
      "|  No running processes found                                                             |\n",
      "+-----------------------------------------------------------------------------------------+\n"
     ]
    }
   ],
   "source": [
    "# Vérifier la disponibilité du GPU\n",
    "!nvidia-smi"
   ]
  },
  {
   "cell_type": "markdown",
   "id": "89ddd742",
   "metadata": {
    "id": "89ddd742"
   },
   "source": [
    "## 2. Montage Google Drive"
   ]
  },
  {
   "cell_type": "code",
   "execution_count": 2,
   "id": "ce5e4f04",
   "metadata": {
    "colab": {
     "base_uri": "https://localhost:8080/"
    },
    "executionInfo": {
     "elapsed": 1096,
     "status": "ok",
     "timestamp": 1761591199598,
     "user": {
      "displayName": "Gautier de Marsac",
      "userId": "07528850342203083749"
     },
     "user_tz": -60
    },
    "id": "ce5e4f04",
    "outputId": "c7452816-ad58-4068-b7cc-0d5c1c7c7948"
   },
   "outputs": [
    {
     "name": "stdout",
     "output_type": "stream",
     "text": [
      "Drive already mounted at /content/drive; to attempt to forcibly remount, call drive.mount(\"/content/drive\", force_remount=True).\n"
     ]
    }
   ],
   "source": [
    "# Monter Google Drive\n",
    "from google.colab import drive\n",
    "drive.mount('/content/drive')"
   ]
  },
  {
   "cell_type": "markdown",
   "id": "1ccf2990",
   "metadata": {
    "id": "1ccf2990"
   },
   "source": [
    "## 3. Configuration du chemin du projet"
   ]
  },
  {
   "cell_type": "code",
   "execution_count": 3,
   "id": "fabb986a",
   "metadata": {
    "colab": {
     "base_uri": "https://localhost:8080/"
    },
    "executionInfo": {
     "elapsed": 16,
     "status": "ok",
     "timestamp": 1761591199615,
     "user": {
      "displayName": "Gautier de Marsac",
      "userId": "07528850342203083749"
     },
     "user_tz": -60
    },
    "id": "fabb986a",
    "outputId": "e46a893e-ea1d-47ce-9979-f877f23eb501"
   },
   "outputs": [
    {
     "name": "stdout",
     "output_type": "stream",
     "text": [
      "Répertoire de travail: /content/drive/MyDrive/smart_chess_drive/smart-chess\n",
      "\n",
      "Contenu du répertoire:\n",
      "  - .git\n",
      "  - .gitignore\n",
      "  - README.md\n",
      "  - ai\n",
      "  - docs\n",
      "  - prototypes\n"
     ]
    }
   ],
   "source": [
    "# Définir le chemin vers le projet sur votre Drive\n",
    "import os\n",
    "import sys\n",
    "\n",
    "PROJECT_PATH = '/content/drive/MyDrive/smart_chess_drive/smart-chess'\n",
    "os.chdir(PROJECT_PATH)\n",
    "sys.path.insert(0, PROJECT_PATH)\n",
    "\n",
    "print(f\"Répertoire de travail: {os.getcwd()}\")\n",
    "print(f\"\\nContenu du répertoire:\")\n",
    "for item in sorted(os.listdir('.')):\n",
    "    print(f\"  - {item}\")"
   ]
  },
  {
   "cell_type": "markdown",
   "id": "3f20e36c",
   "metadata": {
    "id": "3f20e36c"
   },
   "source": [
    "## 4. Installation des dépendances"
   ]
  },
  {
   "cell_type": "code",
   "execution_count": 4,
   "id": "7783beaf",
   "metadata": {
    "colab": {
     "base_uri": "https://localhost:8080/"
    },
    "executionInfo": {
     "elapsed": 12747,
     "status": "ok",
     "timestamp": 1761591212364,
     "user": {
      "displayName": "Gautier de Marsac",
      "userId": "07528850342203083749"
     },
     "user_tz": -60
    },
    "id": "7783beaf",
    "outputId": "315b9e1c-f49e-42ed-aa28-e912d32622cf"
   },
   "outputs": [
    {
     "name": "stdout",
     "output_type": "stream",
     "text": [
      "✓ Installation terminée\n"
     ]
    }
   ],
   "source": [
    "# Installer les packages nécessaires\n",
    "!pip install -q torch torchvision torchaudio\n",
    "!pip install -q numpy matplotlib tqdm\n",
    "\n",
    "print(\"✓ Installation terminée\")"
   ]
  },
  {
   "cell_type": "markdown",
   "id": "25365688",
   "metadata": {
    "id": "25365688"
   },
   "source": [
    "## 5. Vérification de l'environnement PyTorch"
   ]
  },
  {
   "cell_type": "code",
   "execution_count": 5,
   "id": "a76e678b",
   "metadata": {
    "colab": {
     "base_uri": "https://localhost:8080/"
    },
    "executionInfo": {
     "elapsed": 6515,
     "status": "ok",
     "timestamp": 1761591218883,
     "user": {
      "displayName": "Gautier de Marsac",
      "userId": "07528850342203083749"
     },
     "user_tz": -60
    },
    "id": "a76e678b",
    "outputId": "5fb57a81-599b-4be9-810d-1abcdb55dbc3"
   },
   "outputs": [
    {
     "name": "stdout",
     "output_type": "stream",
     "text": [
      "============================================================\n",
      "CONFIGURATION SYSTÈME\n",
      "============================================================\n",
      "PyTorch version: 2.8.0+cu126\n",
      "NumPy version: 2.0.2\n",
      "\n",
      "CUDA disponible: True\n",
      "CUDA version: 12.6\n",
      "Nom du GPU: Tesla T4\n",
      "Mémoire GPU totale: 15.83 GB\n",
      "Compute Capability: 7.5\n",
      "============================================================\n"
     ]
    }
   ],
   "source": [
    "import torch\n",
    "import numpy as np\n",
    "\n",
    "print(\"=\" * 60)\n",
    "print(\"CONFIGURATION SYSTÈME\")\n",
    "print(\"=\" * 60)\n",
    "print(f\"PyTorch version: {torch.__version__}\")\n",
    "print(f\"NumPy version: {np.__version__}\")\n",
    "print(f\"\\nCUDA disponible: {torch.cuda.is_available()}\")\n",
    "\n",
    "if torch.cuda.is_available():\n",
    "    print(f\"CUDA version: {torch.version.cuda}\")\n",
    "    print(f\"Nom du GPU: {torch.cuda.get_device_name(0)}\")\n",
    "    props = torch.cuda.get_device_properties(0)\n",
    "    print(f\"Mémoire GPU totale: {props.total_memory / 1e9:.2f} GB\")\n",
    "    print(f\"Compute Capability: {props.major}.{props.minor}\")\n",
    "else:\n",
    "    print(\"⚠️ ATTENTION: GPU non disponible, l'entraînement sera très lent!\")\n",
    "    print(\"   Allez dans Runtime > Change runtime type > GPU\")\n",
    "\n",
    "print(\"=\" * 60)"
   ]
  },
  {
   "cell_type": "markdown",
   "id": "f91a1e23",
   "metadata": {
    "id": "f91a1e23"
   },
   "source": [
    "## 6. Import des modules du projet"
   ]
  },
  {
   "cell_type": "code",
   "execution_count": 6,
   "id": "c7397821",
   "metadata": {
    "colab": {
     "base_uri": "https://localhost:8080/"
    },
    "executionInfo": {
     "elapsed": 2004,
     "status": "ok",
     "timestamp": 1761591220895,
     "user": {
      "displayName": "Gautier de Marsac",
      "userId": "07528850342203083749"
     },
     "user_tz": -60
    },
    "id": "c7397821",
    "outputId": "991acd05-38b0-483b-fa34-8c19ac94df48"
   },
   "outputs": [
    {
     "name": "stdout",
     "output_type": "stream",
     "text": [
      "Répertoire de travail: /content/drive/MyDrive/smart_chess_drive/smart-chess\n",
      "\n",
      "Quelques fichiers à la racine du projet:\n",
      "['.git', '.gitignore', 'README.md', 'ai', 'docs', 'prototypes']\n",
      "\n",
      "Contenu du dossier ai/:\n",
      "['AI_reduction', 'Chess.py', 'ChessInteractifv2.py', 'Chess_v2.py', 'NN', 'Null_move_AI', 'Old_AI', 'Player.py', 'Profile', 'Tests.py', '__init__.py', '__pycache__', 'alphabeta.py', 'alphabeta_engine.py', 'alphabeta_engine_v2.py', 'analyze_reduction_overhead.py', 'base_engine.py', 'check_dataset_stats.py', 'check_gpu.py', 'check_performance.py', 'checkpoints', 'chess_model_checkpoint.pt', 'debug_conversion.py', 'engine_match.py', 'evaluator.py', 'example_move_reduction.py', 'fast_evaluator.py', 'journal-experiments.md', 'optimized_chess.py', 'profile_report_1760344602.txt', 'test_depth_6_performance.py', 'test_depth_6_quick.py', 'test_depth_effectiveness.py', 'test_engines_v2.py', 'test_evaluator_performance.py', 'test_generalization.py', 'test_move_reduction.py', 'test_null_move.py', 'test_null_move_comparison.py', 'test_null_move_effectiveness.py', 'test_null_move_final.py', 'test_null_move_optimization.py', 'test_null_move_quick.py', 'test_timeout_fix.py', 'visualize_sampling.py']\n",
      "\n",
      "✅ Import direct `Chess` OK (module trouvé via sys.path)\n",
      "🖥️  Device: cuda\n",
      "🚀 GPU: Tesla T4\n",
      "💾 GPU Memory: 15.83 GB\n",
      "\n",
      "✓ Modules importés avec succès!\n"
     ]
    }
   ],
   "source": [
    "# Importer les modules nécessaires depuis le projet (robuste à l'emplacement du repo sur Drive)\n",
    "import os\n",
    "import sys\n",
    "import importlib\n",
    "\n",
    "# Assurez-vous que PROJECT_PATH est défini et ajoutez également le dossier `ai` au PYTHONPATH\n",
    "PROJECT_PATH = '/content/drive/MyDrive/smart_chess_drive/smart-chess'\n",
    "AI_SUBDIR = os.path.join(PROJECT_PATH, 'ai')\n",
    "\n",
    "# Vérifier les chemins alternatifs (si l'utilisateur a copié le repo dans /content)\n",
    "ALT_PATH = '/content/smart-chess'\n",
    "\n",
    "# Choisir un chemin existant\n",
    "if not os.path.isdir(PROJECT_PATH) and os.path.isdir(ALT_PATH):\n",
    "    PROJECT_PATH = ALT_PATH\n",
    "\n",
    "if not os.path.isdir(PROJECT_PATH):\n",
    "    raise FileNotFoundError(f\"Répertoire projet introuvable: {PROJECT_PATH}. Montez Drive et vérifiez le chemin.\")\n",
    "\n",
    "# Ajouter au sys.path si nécessaire\n",
    "if PROJECT_PATH not in sys.path:\n",
    "    sys.path.insert(0, PROJECT_PATH)\n",
    "if AI_SUBDIR not in sys.path and os.path.isdir(AI_SUBDIR):\n",
    "    sys.path.insert(0, AI_SUBDIR)\n",
    "\n",
    "# Se placer dans le répertoire projet\n",
    "os.chdir(PROJECT_PATH)\n",
    "\n",
    "print('Répertoire de travail:', os.getcwd())\n",
    "print('\\nQuelques fichiers à la racine du projet:')\n",
    "print(sorted(os.listdir(PROJECT_PATH))[:50])\n",
    "print('\\nContenu du dossier ai/:')\n",
    "print(sorted(os.listdir(AI_SUBDIR))[:100])\n",
    "\n",
    "# Diagnostic d'import direct pour le module Chess\n",
    "try:\n",
    "    import Chess\n",
    "    print('\\n✅ Import direct `Chess` OK (module trouvé via sys.path)')\n",
    "except Exception as e:\n",
    "    print('\\n❌ Import direct `Chess` a échoué:', e)\n",
    "    print('Vérifiez que `ai/Chess.py` existe et que le dossier ai/ est dans sys.path')\n",
    "\n",
    "# Maintenant importer le module d'entraînement (trainer)\n",
    "try:\n",
    "    import ai.NN.train_torch as trainer\n",
    "    import ai.NN.torch_nn_evaluator as torch_eval\n",
    "    from ai.Chess_v2 import Chess\n",
    "    print('\\n✓ Modules importés avec succès!')\n",
    "except Exception as e:\n",
    "    print('\\n❌ Erreur d\\'import lors de l\\'import du trainer:', e)\n",
    "    raise\n"
   ]
  },
  {
   "cell_type": "markdown",
   "id": "0e668793",
   "metadata": {
    "id": "0e668793"
   },
   "source": [
    "## 7. Configuration de l'entraînement"
   ]
  },
  {
   "cell_type": "code",
   "execution_count": 7,
   "id": "c9f87f8d",
   "metadata": {
    "colab": {
     "base_uri": "https://localhost:8080/"
    },
    "executionInfo": {
     "elapsed": 7,
     "status": "ok",
     "timestamp": 1761591220904,
     "user": {
      "displayName": "Gautier de Marsac",
      "userId": "07528850342203083749"
     },
     "user_tz": -60
    },
    "id": "c9f87f8d",
    "outputId": "e1942b61-59f8-4871-ee1e-f087572a5613"
   },
   "outputs": [
    {
     "name": "stdout",
     "output_type": "stream",
     "text": [
      "============================================================\n",
      "CONFIGURATION DE L'ENTRAÎNEMENT\n",
      "============================================================\n",
      "num_games           : 10000\n",
      "batch_size          : 256\n",
      "epochs              : 50\n",
      "learning_rate       : 0.001\n",
      "device              : cuda\n",
      "num_workers         : 2\n",
      "checkpoint_path     : ai/chess_model_checkpoint.pt\n",
      "save_interval       : 5\n",
      "============================================================\n"
     ]
    }
   ],
   "source": [
    "# Paramètres d'entraînement\n",
    "CONFIG = {\n",
    "    # Génération de données\n",
    "    'num_games': 10000,          # Nombre de parties à générer pour l'entraînement\n",
    "\n",
    "    # Hyperparamètres\n",
    "    'batch_size': 256,           # Taille du batch (augmenter si GPU puissant)\n",
    "    'epochs': 50,                # Nombre d'époques d'entraînement\n",
    "    'learning_rate': 0.001,      # Taux d'apprentissage\n",
    "\n",
    "    # Configuration système\n",
    "    'device': 'cuda' if torch.cuda.is_available() else 'cpu',\n",
    "    'num_workers': 2,            # Workers pour le DataLoader\n",
    "\n",
    "    # Sauvegarde\n",
    "    'checkpoint_path': 'ai/chess_model_checkpoint.pt',\n",
    "    'save_interval': 5,          # Sauvegarder tous les N époques\n",
    "}\n",
    "\n",
    "print(\"=\" * 60)\n",
    "print(\"CONFIGURATION DE L'ENTRAÎNEMENT\")\n",
    "print(\"=\" * 60)\n",
    "for key, value in CONFIG.items():\n",
    "    print(f\"{key:20s}: {value}\")\n",
    "print(\"=\" * 60)\n",
    "\n",
    "if CONFIG['device'] == 'cpu':\n",
    "    print(\"\\n⚠️ ATTENTION: Entraînement sur CPU détecté!\")\n",
    "    print(\"   Réduisez num_games et epochs pour un test rapide.\")"
   ]
  },
  {
   "cell_type": "markdown",
   "id": "f72ad90f",
   "metadata": {
    "id": "f72ad90f"
   },
   "source": [
    "## 8. Génération des données d'entraînement\n",
    "\n",
    "Cette étape génère des parties d'échecs aléatoires et calcule les évaluations de position.\n",
    "**Attention:** Cela peut prendre 15-30 minutes selon le nombre de parties."
   ]
  },
  {
   "cell_type": "code",
   "execution_count": 8,
   "id": "76f74c05",
   "metadata": {
    "colab": {
     "base_uri": "https://localhost:8080/"
    },
    "executionInfo": {
     "elapsed": 2,
     "status": "ok",
     "timestamp": 1761591220908,
     "user": {
      "displayName": "Gautier de Marsac",
      "userId": "07528850342203083749"
     },
     "user_tz": -60
    },
    "id": "76f74c05",
    "outputId": "5f3c3765-b599-4bcd-88c2-d193f66895bc"
   },
   "outputs": [
    {
     "name": "stdout",
     "output_type": "stream",
     "text": [
      "✅ Dataset CSV trouvé: /content/drive/MyDrive/smart_chess_drive/chessData.csv\n",
      "Dossier de checkpoints (créé si manquant): /content/drive/MyDrive/smart_chess_drive/smart-chess/ai/checkpoints\n",
      "\n",
      "Variables exposées:\n",
      " DATASET_CSV = /content/drive/MyDrive/smart_chess_drive/chessData.csv\n",
      " CKPT_DIR = /content/drive/MyDrive/smart_chess_drive/smart-chess/ai/checkpoints\n"
     ]
    }
   ],
   "source": [
    "# Localiser le dataset sur Google Drive et préparer le dossier de checkpoints\n",
    "import os\n",
    "from glob import glob\n",
    "\n",
    "# Chemin attendu du dossier contenant le dataset (donné par l'user)\n",
    "# Updated based on user's feedback that the file is directly in smart_chess_drive\n",
    "DATASET_DIR = '/content/drive/MyDrive/smart_chess_drive/'\n",
    "\n",
    "# Chercher un fichier .csv dans DATASET_DIR\n",
    "DATASET_CSV = None\n",
    "if os.path.exists(DATASET_DIR):\n",
    "    csvs = glob(os.path.join(DATASET_DIR, '*.csv'))\n",
    "    if len(csvs) > 0:\n",
    "        # Assuming there's only one relevant CSV in that dir, pick the first one\n",
    "        DATASET_CSV = csvs[0]\n",
    "        print(f'✅ Dataset CSV trouvé: {DATASET_CSV}')\n",
    "    else:\n",
    "        print(f'❌ Aucun fichier .csv trouvé dans {DATASET_DIR}. Placez votre fichier chessData.csv dans ce dossier.')\n",
    "else:\n",
    "    print(f'❌ Dossier dataset introuvable: {DATASET_DIR}. Vérifiez le chemin sur votre Drive.')\n",
    "\n",
    "# Créer un dossier de checkpoints dans le repo sur Drive (persistant)\n",
    "CKPT_DIR = '/content/drive/MyDrive/smart_chess_drive/smart-chess/ai/checkpoints'\n",
    "os.makedirs(CKPT_DIR, exist_ok=True)\n",
    "print('Dossier de checkpoints (créé si manquant):', CKPT_DIR)\n",
    "\n",
    "# Exposer variables utiles\n",
    "print('\\nVariables exposées:')\n",
    "print(' DATASET_CSV =', DATASET_CSV)\n",
    "print(' CKPT_DIR =', CKPT_DIR)"
   ]
  },
  {
   "cell_type": "code",
   "execution_count": 16,
   "id": "4504f1e6",
   "metadata": {
    "colab": {
     "base_uri": "https://localhost:8080/"
    },
    "executionInfo": {
     "elapsed": 22638,
     "status": "ok",
     "timestamp": 1761591387222,
     "user": {
      "displayName": "Gautier de Marsac",
      "userId": "07528850342203083749"
     },
     "user_tz": -60
    },
    "id": "4504f1e6",
    "outputId": "6b16cc77-1139-4b3a-eb76-5e7a229c101f"
   },
   "outputs": [
    {
     "name": "stdout",
     "output_type": "stream",
     "text": [
      "Chargement du dataset (depuis chessData)...\n",
      "📂 Chargement du dataset depuis /content/drive/MyDrive/smart_chess_drive/chessData.csv...\n",
      "🧹 Nettoyage : 190154 lignes corrompues supprimées.\n",
      "✅ 12,767,881 positions valides chargées.\n",
      "\n",
      "============================================================\n",
      "DONNÉES CHARGÉES\n",
      "============================================================\n",
      "Nombre total de positions: 12,767,881\n",
      "Temps écoulé: 22.5s (0.4 min)\n",
      "============================================================\n",
      "\n",
      "Statistiques sur les évaluations:\n",
      "  Min: -15.3120\n",
      "  Max: 15.3190\n",
      "  Moyenne: 0.0455\n",
      "  Écart-type: 0.8139\n"
     ]
    }
   ],
   "source": [
    "from tqdm import tqdm\n",
    "import time\n",
    "\n",
    "print(\"Chargement du dataset (depuis chessData)...\")\n",
    "\n",
    "# Préférer la variable DATASET_CSV (définie après le montage Drive) sinon utiliser la valeur par défaut du module trainer\n",
    "dataset_path = globals().get('DATASET_CSV') # Use the DATASET_CSV variable directly\n",
    "\n",
    "if dataset_path is None:\n",
    "    raise FileNotFoundError('Aucun chemin de dataset défini. Montez Drive et placez le fichier CSV dans MyDrive/smart_chess_drive/chessData')\n",
    "\n",
    "start_time = time.time()\n",
    "\n",
    "# Utiliser la fonction de chargement du script d'entraînement pour assurer le même prétraitement\n",
    "fens, evaluations = trainer.load_data(dataset_path) # Pass the dataset_path explicitly\n",
    "\n",
    "# Variables attendues plus bas dans le notebook\n",
    "X_train = fens\n",
    "y_train = evaluations\n",
    "\n",
    "elapsed_time = time.time() - start_time\n",
    "\n",
    "print(\"\\n\" + \"=\" * 60)\n",
    "print(\"DONNÉES CHARGÉES\")\n",
    "print(\"=\" * 60)\n",
    "print(f\"Nombre total de positions: {len(X_train):,}\")\n",
    "print(f\"Temps écoulé: {elapsed_time:.1f}s ({elapsed_time/60:.1f} min)\")\n",
    "print(\"=\" * 60)\n",
    "\n",
    "# Statistiques sur les évaluations\n",
    "print(f\"\\nStatistiques sur les évaluations:\")\n",
    "print(f\"  Min: {y_train.min():.4f}\")\n",
    "print(f\"  Max: {y_train.max():.4f}\")\n",
    "print(f\"  Moyenne: {y_train.mean():.4f}\")\n",
    "print(f\"  Écart-type: {y_train.std():.4f}\")"
   ]
  },
  {
   "cell_type": "code",
   "execution_count": null,
   "id": "cc365442",
   "metadata": {
    "id": "cc365442"
   },
   "outputs": [],
   "source": [
    "import inspect\n",
    "import ai.NN.train_torch as trainer\n",
    "\n",
    "try:\n",
    "    # Get the source code of the load_data function\n",
    "    source_code = inspect.getsource(trainer.load_data)\n",
    "    print(\"Source code of trainer.load_data:\")\n",
    "    print(\"=\" * 60)\n",
    "    print(source_code)\n",
    "    print(\"=\" * 60)\n",
    "except TypeError:\n",
    "    print(\"Could not get source code for trainer.load_data. It might not be a function defined in the file.\")\n",
    "except FileNotFoundError:\n",
    "    print(\"Could not find the train_torch.py file.\")\n",
    "except Exception as e:\n",
    "    print(f\"An error occurred while trying to get source code: {e}\")"
   ]
  },
  {
   "cell_type": "code",
   "execution_count": null,
   "id": "e0b3c66b",
   "metadata": {
    "id": "e0b3c66b"
   },
   "outputs": [],
   "source": [
    "import os\n",
    "\n",
    "file_path = os.path.join(PROJECT_PATH, 'ai/NN/train_torch.py')\n",
    "\n",
    "# Read the content of the file\n",
    "with open(file_path, 'r') as f:\n",
    "    content = f.read()\n",
    "\n",
    "# Assuming the load_data function signature is currently load_data():\n",
    "# We need to find the function definition and modify it to accept dataset_path\n",
    "# This is a simple string replacement and might need adjustment based on the actual code\n",
    "old_def = 'def load_data():'\n",
    "new_def = 'def load_data(dataset_path):'\n",
    "old_data_loading_line = \"df = pd.read_csv('C:\\\\\\\\Users\\\\\\\\gauti\\\\\\\\OneDrive\\\\\\\\Documents\\\\\\\\UE commande\\\\\\\\chessData.csv')\" # This is a guess, may need adjustment\n",
    "new_data_loading_line = \"df = pd.read_csv(dataset_path)\"\n",
    "\n",
    "\n",
    "if old_def in content and old_data_loading_line in content:\n",
    "    content = content.replace(old_def, new_def)\n",
    "    content = content.replace(old_data_loading_line, new_data_loading_line)\n",
    "    # Write the modified content back to the file\n",
    "    with open(file_path, 'w') as f:\n",
    "        f.write(content)\n",
    "    print(f\"Successfully modified {file_path} to accept and use dataset_path in load_data function.\")\n",
    "elif old_def in content:\n",
    "     print(f\"Found function definition '{old_def}', but could not find the specific data loading line '{old_data_loading_line}' to replace.\")\n",
    "     print(\"Please inspect the `load_data` function in `ai/NN/train_torch.py` and manually update the file path to use the `dataset_path` argument.\")\n",
    "else:\n",
    "    print(f\"Could not find the function definition '{old_def}' in {file_path}. Please inspect the file manually.\")"
   ]
  },
  {
   "cell_type": "markdown",
   "id": "fdea4dd7",
   "metadata": {
    "id": "fdea4dd7"
   },
   "source": [
    "## 9. Création du dataset et du dataloader"
   ]
  },
  {
   "cell_type": "code",
   "execution_count": null,
   "id": "d0c45e62",
   "metadata": {
    "id": "d0c45e62"
   },
   "outputs": [],
   "source": [
    "from torch.utils.data import DataLoader\n",
    "from ai.NN.train_torch import ChessDataset # Import ChessDataset\n",
    "\n",
    "# Créer le dataset\n",
    "dataset = ChessDataset(X_train, y_train)\n",
    "\n",
    "# Créer le dataloader\n",
    "train_loader = DataLoader(\n",
    "    dataset,\n",
    "    batch_size=CONFIG['batch_size'],\n",
    "    shuffle=True,\n",
    "    num_workers=CONFIG['num_workers'],\n",
    "    pin_memory=True if CONFIG['device'] == 'cuda' else False\n",
    ")\n",
    "\n",
    "print(\"=\" * 60)\n",
    "print(\"DATALOADER CONFIGURÉ\")\n",
    "print(\"=\" * 60)\n",
    "print(f\"Taille du dataset: {len(dataset):,} échantillons\")\n",
    "print(f\"Nombre de batches: {len(train_loader):,}\")\n",
    "print(f\"Taille du batch: {CONFIG['batch_size']}\")\n",
    "print(f\"Dernière batch: {len(dataset) % CONFIG['batch_size']} échantillons\")\n",
    "print(\"=\" * 60)"
   ]
  },
  {
   "cell_type": "markdown",
   "id": "f05dda22",
   "metadata": {
    "id": "f05dda22"
   },
   "source": [
    "## 10. Création du modèle"
   ]
  },
  {
   "cell_type": "code",
   "execution_count": null,
   "id": "056d2b3a",
   "metadata": {
    "id": "056d2b3a"
   },
   "outputs": [],
   "source": [
    "# Créer le modèle et le déplacer sur le device approprié\n",
    "from ai.NN.torch_nn_evaluator import TorchNNEvaluator # Import TorchNNEvaluator from torch_nn_evaluator\n",
    "\n",
    "model = TorchNNEvaluator().to(CONFIG['device'])\n",
    "\n",
    "# Afficher l'architecture\n",
    "print(\"=\" * 60)\n",
    "print(\"ARCHITECTURE DU MODÈLE\")\n",
    "print(\"=\" * 60)\n",
    "print(model)\n",
    "print(\"=\" * 60)\n",
    "\n",
    "# Compter les paramètres\n",
    "total_params = sum(p.numel() for p in model.parameters())\n",
    "trainable_params = sum(p.numel() for p in model.parameters() if p.requires_grad)\n",
    "\n",
    "print(f\"\\nNombre total de paramètres: {total_params:,}\")\n",
    "print(f\"Paramètres entraînables: {trainable_params:,}\")\n",
    "print(f\"Device: {CONFIG['device']}\")\n",
    "\n",
    "# Estimer la taille mémoire du modèle\n",
    "param_size_mb = total_params * 4 / (1024 ** 2)  # 4 bytes par float32\n",
    "print(f\"Taille estimée du modèle: {param_size_mb:.2f} MB\")"
   ]
  },
  {
   "cell_type": "markdown",
   "id": "aa1ba4a7",
   "metadata": {
    "id": "aa1ba4a7"
   },
   "source": [
    "## 11. Entraînement du modèle\n",
    "\n",
    "Cette étape lance l'entraînement complet. Les checkpoints sont sauvegardés automatiquement sur votre Drive."
   ]
  },
  {
   "cell_type": "code",
   "execution_count": null,
   "id": "9887d4b8",
   "metadata": {
    "colab": {
     "base_uri": "https://localhost:8080/"
    },
    "executionInfo": {
     "elapsed": 110550,
     "status": "ok",
     "timestamp": 1761591556193,
     "user": {
      "displayName": "Gautier de Marsac",
      "userId": "07528850342203083749"
     },
     "user_tz": -60
    },
    "id": "9887d4b8",
    "outputId": "b5e18fb7-b6a3-4cb8-fc4b-fedf12a8b9a2"
   },
   "outputs": [
    {
     "name": "stdout",
     "output_type": "stream",
     "text": [
      "🖥️  Device: cuda\n",
      "🚀 GPU: Tesla T4\n",
      "💾 GPU Memory: 15.83 GB\n",
      "✅ Harmonisation: trainer.BATCH_SIZE = 256\n",
      "✅ Applied global changes: trainer.HIDDEN_SIZE=512, trainer.MAX_SAMPLES=50000\n",
      "Configuration trainer:\n",
      " DATASET_PATH= /content/drive/MyDrive/smart_chess_drive/chessData.csv\n",
      " CHECKPOINT_FILE= /content/drive/MyDrive/smart_chess_drive/smart-chess/ai/checkpoints/chess_model_checkpoint.pt\n",
      " WEIGHTS_FILE= /content/drive/MyDrive/smart_chess_drive/smart-chess/ai/checkpoints/chess_nn_weights.npz\n",
      " EPOCHS= 20\n",
      " MAX_SAMPLES= 50000\n",
      "📂 Chargement du dataset depuis /content/drive/MyDrive/smart_chess_drive/chessData.csv...\n",
      "🧹 Nettoyage : 190154 lignes corrompues supprimées.\n",
      "✅ 12,767,881 positions valides chargées.\n",
      "\n",
      "📊 Dataset complet: 12,767,881 positions\n",
      "📥 Chargement du checkpoint PyTorch: /content/drive/MyDrive/smart_chess_drive/smart-chess/ai/checkpoints/chess_model_checkpoint.pt\n",
      "⚠️ Warning while loading checkpoint with strict=True: Error(s) in loading state_dict for TorchNNEvaluator:\n",
      "\tsize mismatch for l1.weight: copying a param with shape torch.Size([256, 768]) from checkpoint, the shape in current model is torch.Size([512, 768]).\n",
      "\tsize mismatch for l1.bias: copying a param with shape torch.Size([256]) from checkpoint, the shape in current model is torch.Size([512]).\n",
      "\tsize mismatch for l2.weight: copying a param with shape torch.Size([256, 256]) from checkpoint, the shape in current model is torch.Size([512, 512]).\n",
      "\tsize mismatch for l2.bias: copying a param with shape torch.Size([256]) from checkpoint, the shape in current model is torch.Size([512]).\n",
      "\tsize mismatch for l3.weight: copying a param with shape torch.Size([1, 256]) from checkpoint, the shape in current model is torch.Size([1, 512]).\n",
      "Attempting flexible parameter copy (will copy matching slices where possible)...\n",
      "  Copied params for 'l1.weight' (src (256, 768) -> dst (512, 768))\n",
      "  Copied params for 'l1.bias' (src (256,) -> dst (512,))\n",
      "  Copied params for 'l2.weight' (src (256, 256) -> dst (512, 512))\n",
      "  Copied params for 'l2.bias' (src (256,) -> dst (512,))\n",
      "  Copied params for 'l3.weight' (src (1, 256) -> dst (1, 512))\n",
      "  Copied params for 'l3.bias' (src (1,) -> dst (1,))\n",
      "⚠️ Flexible parameter copy was performed (checkpoint/model shape mismatch); skipping optimizer restore to avoid buffer shape errors.\n",
      "✅ Checkpoint chargé (step 20)\n",
      "\n",
      "======================================================================\n",
      "Configuration:\n",
      "  Dataset complet: 12,767,881 positions\n",
      "  Échantillon/epoch: 50,000 positions\n",
      "  Architecture: 768 → 512 → 512 → 1\n",
      "  Dropout: 0.3\n",
      "  LeakyReLU alpha: 0.01\n",
      "  Learning rate: 0.001 (AdamW, weight decay: 0.0001)\n",
      "  LR Warmup: True (0.0001 → 0.001)\n",
      "  LR Scheduler: True (patience: 2)\n",
      "  Batch size: 256\n",
      "  Epochs: 20\n",
      "  Device: cuda\n",
      "======================================================================\n",
      "\n",
      "\n",
      "[Epoch 1] 🎲 Échantillonnage: 50,000 positions sur 12,767,881\n",
      "🔥 Warmup epoch 1/3: LR = 0.000400\n"
     ]
    },
    {
     "name": "stderr",
     "output_type": "stream",
     "text": [
      "Epoch 1/20:   3%|▎         | 6/196 [00:00<00:03, 56.65it/s, loss=0.5702]"
     ]
    },
    {
     "name": "stdout",
     "output_type": "stream",
     "text": [
      "\n",
      "[DEBUG batch 0] targets mean=0.1125 std=0.7436; preds mean=0.1257 std=0.3603; RMSE=0.6029; corr=0.5962\n"
     ]
    },
    {
     "name": "stderr",
     "output_type": "stream",
     "text": [
      "Epoch 1/20: 100%|██████████| 196/196 [00:03<00:00, 57.62it/s, loss=0.6110]\n"
     ]
    },
    {
     "name": "stdout",
     "output_type": "stream",
     "text": [
      "\n",
      "🔍 Évaluation epoch 1...\n",
      "\n",
      "======================================================================\n",
      "EPOCH 1/20 - Évaluation sur 5,000 positions\n",
      "======================================================================\n",
      "  RMSE:        0.6462  (baseline: 0.8562)\n",
      "  MAE:         0.2615\n",
      "  Amélioration: +24.5% vs baseline\n",
      "  Corrélation: 0.6602\n",
      "  Std preds:   0.5048  (cible: 0.8562)\n",
      "  Mean preds:  0.0244  (cible: 0.0422)\n",
      "  →  Apprentissage en cours\n",
      "======================================================================\n",
      "\n",
      "💾 Nouveau meilleur RMSE: 0.6462 - Sauvegarde...\n",
      "Checkpoint PyTorch sauvegardé dans /content/drive/MyDrive/smart_chess_drive/smart-chess/ai/checkpoints/chess_model_checkpoint.pt\n",
      "Poids sauvegardés (npz) dans /content/drive/MyDrive/smart_chess_drive/smart-chess/ai/checkpoints/chess_nn_weights.npz\n",
      "\n",
      "[Epoch 2] 🎲 Échantillonnage: 50,000 positions sur 12,767,881\n",
      "🔥 Warmup epoch 2/3: LR = 0.000700\n"
     ]
    },
    {
     "name": "stderr",
     "output_type": "stream",
     "text": [
      "Epoch 2/20: 100%|██████████| 196/196 [00:03<00:00, 51.25it/s, loss=0.6145]\n"
     ]
    },
    {
     "name": "stdout",
     "output_type": "stream",
     "text": [
      "\n",
      "🔍 Évaluation epoch 2...\n",
      "\n",
      "======================================================================\n",
      "EPOCH 2/20 - Évaluation sur 5,000 positions\n",
      "======================================================================\n",
      "  RMSE:        0.5322  (baseline: 0.7341)\n",
      "  MAE:         0.2265\n",
      "  Amélioration: +27.5% vs baseline\n",
      "  Corrélation: 0.6892\n",
      "  Std preds:   0.4951  (cible: 0.7341)\n",
      "  Mean preds:  0.0285  (cible: 0.0435)\n",
      "  →  Apprentissage en cours\n",
      "======================================================================\n",
      "\n",
      "💾 Nouveau meilleur RMSE: 0.5322 - Sauvegarde...\n",
      "Checkpoint PyTorch sauvegardé dans /content/drive/MyDrive/smart_chess_drive/smart-chess/ai/checkpoints/chess_model_checkpoint.pt\n",
      "Poids sauvegardés (npz) dans /content/drive/MyDrive/smart_chess_drive/smart-chess/ai/checkpoints/chess_nn_weights.npz\n",
      "\n",
      "[Epoch 3] 🎲 Échantillonnage: 50,000 positions sur 12,767,881\n",
      "🔥 Warmup epoch 3/3: LR = 0.001000\n"
     ]
    },
    {
     "name": "stderr",
     "output_type": "stream",
     "text": [
      "Epoch 3/20: 100%|██████████| 196/196 [00:03<00:00, 60.03it/s, loss=0.6178]\n"
     ]
    },
    {
     "name": "stdout",
     "output_type": "stream",
     "text": [
      "\n",
      "🔍 Évaluation epoch 3...\n",
      "\n",
      "======================================================================\n",
      "EPOCH 3/20 - Évaluation sur 5,000 positions\n",
      "======================================================================\n",
      "  RMSE:        0.5850  (baseline: 0.8079)\n",
      "  MAE:         0.2420\n",
      "  Amélioration: +27.6% vs baseline\n",
      "  Corrélation: 0.6937\n",
      "  Std preds:   0.5003  (cible: 0.8079)\n",
      "  Mean preds:  0.0381  (cible: 0.0353)\n",
      "  →  Apprentissage en cours\n",
      "======================================================================\n",
      "\n",
      "\n",
      "[Epoch 4] 🎲 Échantillonnage: 50,000 positions sur 12,767,881\n"
     ]
    },
    {
     "name": "stderr",
     "output_type": "stream",
     "text": [
      "Epoch 4/20: 100%|██████████| 196/196 [00:03<00:00, 55.59it/s, loss=0.6277]\n"
     ]
    },
    {
     "name": "stdout",
     "output_type": "stream",
     "text": [
      "\n",
      "🔍 Évaluation epoch 4...\n",
      "\n",
      "======================================================================\n",
      "EPOCH 4/20 - Évaluation sur 5,000 positions\n",
      "======================================================================\n",
      "  RMSE:        0.6064  (baseline: 0.8609)\n",
      "  MAE:         0.2553\n",
      "  Amélioration: +29.6% vs baseline\n",
      "  Corrélation: 0.7169\n",
      "  Std preds:   0.5305  (cible: 0.8609)\n",
      "  Mean preds:  0.0359  (cible: 0.0384)\n",
      "  →  Apprentissage en cours\n",
      "======================================================================\n",
      "\n",
      "\n",
      "[Epoch 5] 🎲 Échantillonnage: 50,000 positions sur 12,767,881\n"
     ]
    },
    {
     "name": "stderr",
     "output_type": "stream",
     "text": [
      "Epoch 5/20: 100%|██████████| 196/196 [00:03<00:00, 52.40it/s, loss=0.6280]\n"
     ]
    },
    {
     "name": "stdout",
     "output_type": "stream",
     "text": [
      "\n",
      "🔍 Évaluation epoch 5...\n",
      "\n",
      "======================================================================\n",
      "EPOCH 5/20 - Évaluation sur 5,000 positions\n",
      "======================================================================\n",
      "  RMSE:        0.5321  (baseline: 0.7628)\n",
      "  MAE:         0.2338\n",
      "  Amélioration: +30.2% vs baseline\n",
      "  Corrélation: 0.7276\n",
      "  Std preds:   0.4610  (cible: 0.7628)\n",
      "  Mean preds:  0.0262  (cible: 0.0485)\n",
      "  ✓  Bon apprentissage!\n",
      "======================================================================\n",
      "\n",
      "💾 Nouveau meilleur RMSE: 0.5321 - Sauvegarde...\n",
      "Checkpoint PyTorch sauvegardé dans /content/drive/MyDrive/smart_chess_drive/smart-chess/ai/checkpoints/chess_model_checkpoint.pt\n",
      "Poids sauvegardés (npz) dans /content/drive/MyDrive/smart_chess_drive/smart-chess/ai/checkpoints/chess_nn_weights.npz\n",
      "\n",
      "[Epoch 6] 🎲 Échantillonnage: 50,000 positions sur 12,767,881\n"
     ]
    },
    {
     "name": "stderr",
     "output_type": "stream",
     "text": [
      "Epoch 6/20: 100%|██████████| 196/196 [00:03<00:00, 60.88it/s, loss=0.6249]\n"
     ]
    },
    {
     "name": "stdout",
     "output_type": "stream",
     "text": [
      "\n",
      "🔍 Évaluation epoch 6...\n",
      "\n",
      "======================================================================\n",
      "EPOCH 6/20 - Évaluation sur 5,000 positions\n",
      "======================================================================\n",
      "  RMSE:        0.5669  (baseline: 0.8004)\n",
      "  MAE:         0.2437\n",
      "  Amélioration: +29.2% vs baseline\n",
      "  Corrélation: 0.7120\n",
      "  Std preds:   0.4967  (cible: 0.8004)\n",
      "  Mean preds:  0.0421  (cible: 0.0530)\n",
      "  →  Apprentissage en cours\n",
      "======================================================================\n",
      "\n",
      "\n",
      "[Epoch 7] 🎲 Échantillonnage: 50,000 positions sur 12,767,881\n"
     ]
    },
    {
     "name": "stderr",
     "output_type": "stream",
     "text": [
      "Epoch 7/20: 100%|██████████| 196/196 [00:03<00:00, 59.88it/s, loss=0.6118]\n"
     ]
    },
    {
     "name": "stdout",
     "output_type": "stream",
     "text": [
      "\n",
      "🔍 Évaluation epoch 7...\n",
      "\n",
      "======================================================================\n",
      "EPOCH 7/20 - Évaluation sur 5,000 positions\n",
      "======================================================================\n",
      "  RMSE:        0.5841  (baseline: 0.7911)\n",
      "  MAE:         0.2472\n",
      "  Amélioration: +26.2% vs baseline\n",
      "  Corrélation: 0.6884\n",
      "  Std preds:   0.4351  (cible: 0.7911)\n",
      "  Mean preds:  0.0469  (cible: 0.0512)\n",
      "  →  Apprentissage en cours\n",
      "======================================================================\n",
      "\n",
      "\n",
      "[Epoch 8] 🎲 Échantillonnage: 50,000 positions sur 12,767,881\n"
     ]
    },
    {
     "name": "stderr",
     "output_type": "stream",
     "text": [
      "Epoch 8/20: 100%|██████████| 196/196 [00:03<00:00, 53.12it/s, loss=0.6139]\n"
     ]
    },
    {
     "name": "stdout",
     "output_type": "stream",
     "text": [
      "\n",
      "🔍 Évaluation epoch 8...\n",
      "\n",
      "======================================================================\n",
      "EPOCH 8/20 - Évaluation sur 5,000 positions\n",
      "======================================================================\n",
      "  RMSE:        0.5597  (baseline: 0.8092)\n",
      "  MAE:         0.2378\n",
      "  Amélioration: +30.8% vs baseline\n",
      "  Corrélation: 0.7286\n",
      "  Std preds:   0.5114  (cible: 0.8092)\n",
      "  Mean preds:  0.0424  (cible: 0.0412)\n",
      "  ✓  Bon apprentissage!\n",
      "======================================================================\n",
      "\n",
      "\n",
      "[Epoch 9] 🎲 Échantillonnage: 50,000 positions sur 12,767,881\n"
     ]
    },
    {
     "name": "stderr",
     "output_type": "stream",
     "text": [
      "Epoch 9/20: 100%|██████████| 196/196 [00:03<00:00, 58.15it/s, loss=0.6233]\n"
     ]
    },
    {
     "name": "stdout",
     "output_type": "stream",
     "text": [
      "\n",
      "🔍 Évaluation epoch 9...\n",
      "\n",
      "======================================================================\n",
      "EPOCH 9/20 - Évaluation sur 5,000 positions\n",
      "======================================================================\n",
      "  RMSE:        0.5423  (baseline: 0.7853)\n",
      "  MAE:         0.2399\n",
      "  Amélioration: +30.9% vs baseline\n",
      "  Corrélation: 0.7277\n",
      "  Std preds:   0.5087  (cible: 0.7853)\n",
      "  Mean preds:  0.0438  (cible: 0.0521)\n",
      "  ✓  Bon apprentissage!\n",
      "======================================================================\n",
      "\n",
      "\n",
      "[Epoch 10] 🎲 Échantillonnage: 50,000 positions sur 12,767,881\n"
     ]
    },
    {
     "name": "stderr",
     "output_type": "stream",
     "text": [
      "Epoch 10/20: 100%|██████████| 196/196 [00:03<00:00, 54.80it/s, loss=0.6219]\n"
     ]
    },
    {
     "name": "stdout",
     "output_type": "stream",
     "text": [
      "\n",
      "🔍 Évaluation epoch 10...\n",
      "\n",
      "======================================================================\n",
      "EPOCH 10/20 - Évaluation sur 5,000 positions\n",
      "======================================================================\n",
      "  RMSE:        0.5744  (baseline: 0.7825)\n",
      "  MAE:         0.2436\n",
      "  Amélioration: +26.6% vs baseline\n",
      "  Corrélation: 0.6857\n",
      "  Std preds:   0.4627  (cible: 0.7825)\n",
      "  Mean preds:  0.0426  (cible: 0.0501)\n",
      "  →  Apprentissage en cours\n",
      "======================================================================\n",
      "\n",
      "\n",
      "[Epoch 11] 🎲 Échantillonnage: 50,000 positions sur 12,767,881\n"
     ]
    },
    {
     "name": "stderr",
     "output_type": "stream",
     "text": [
      "Epoch 11/20: 100%|██████████| 196/196 [00:03<00:00, 60.41it/s, loss=0.6196]\n"
     ]
    },
    {
     "name": "stdout",
     "output_type": "stream",
     "text": [
      "\n",
      "🔍 Évaluation epoch 11...\n",
      "\n",
      "======================================================================\n",
      "EPOCH 11/20 - Évaluation sur 5,000 positions\n",
      "======================================================================\n",
      "  RMSE:        0.5359  (baseline: 0.7187)\n",
      "  MAE:         0.2354\n",
      "  Amélioration: +25.4% vs baseline\n",
      "  Corrélation: 0.6674\n",
      "  Std preds:   0.4664  (cible: 0.7187)\n",
      "  Mean preds:  0.0166  (cible: 0.0397)\n",
      "  →  Apprentissage en cours\n",
      "======================================================================\n",
      "\n",
      "\n",
      "[Epoch 12] 🎲 Échantillonnage: 50,000 positions sur 12,767,881\n"
     ]
    },
    {
     "name": "stderr",
     "output_type": "stream",
     "text": [
      "Epoch 12/20: 100%|██████████| 196/196 [00:03<00:00, 58.62it/s, loss=0.6105]\n"
     ]
    },
    {
     "name": "stdout",
     "output_type": "stream",
     "text": [
      "\n",
      "🔍 Évaluation epoch 12...\n",
      "\n",
      "======================================================================\n",
      "EPOCH 12/20 - Évaluation sur 5,000 positions\n",
      "======================================================================\n",
      "  RMSE:        0.6108  (baseline: 0.8253)\n",
      "  MAE:         0.2556\n",
      "  Amélioration: +26.0% vs baseline\n",
      "  Corrélation: 0.6806\n",
      "  Std preds:   0.4753  (cible: 0.8253)\n",
      "  Mean preds:  0.0567  (cible: 0.0595)\n",
      "  →  Apprentissage en cours\n",
      "======================================================================\n",
      "\n",
      "\n",
      "[Epoch 13] 🎲 Échantillonnage: 50,000 positions sur 12,767,881\n"
     ]
    },
    {
     "name": "stderr",
     "output_type": "stream",
     "text": [
      "Epoch 13/20: 100%|██████████| 196/196 [00:03<00:00, 54.18it/s, loss=0.6208]\n"
     ]
    },
    {
     "name": "stdout",
     "output_type": "stream",
     "text": [
      "\n",
      "🔍 Évaluation epoch 13...\n",
      "\n",
      "======================================================================\n",
      "EPOCH 13/20 - Évaluation sur 5,000 positions\n",
      "======================================================================\n",
      "  RMSE:        0.5561  (baseline: 0.7603)\n",
      "  MAE:         0.2384\n",
      "  Amélioration: +26.9% vs baseline\n",
      "  Corrélation: 0.6866\n",
      "  Std preds:   0.4615  (cible: 0.7603)\n",
      "  Mean preds:  0.0482  (cible: 0.0450)\n",
      "  →  Apprentissage en cours\n",
      "======================================================================\n",
      "\n",
      "\n",
      "[Epoch 14] 🎲 Échantillonnage: 50,000 positions sur 12,767,881\n"
     ]
    },
    {
     "name": "stderr",
     "output_type": "stream",
     "text": [
      "Epoch 14/20: 100%|██████████| 196/196 [00:03<00:00, 58.43it/s, loss=0.5968]\n"
     ]
    },
    {
     "name": "stdout",
     "output_type": "stream",
     "text": [
      "\n",
      "🔍 Évaluation epoch 14...\n",
      "\n",
      "======================================================================\n",
      "EPOCH 14/20 - Évaluation sur 5,000 positions\n",
      "======================================================================\n",
      "  RMSE:        0.6054  (baseline: 0.8427)\n",
      "  MAE:         0.2471\n",
      "  Amélioration: +28.2% vs baseline\n",
      "  Corrélation: 0.7035\n",
      "  Std preds:   0.5067  (cible: 0.8427)\n",
      "  Mean preds:  0.0370  (cible: 0.0559)\n",
      "  →  Apprentissage en cours\n",
      "======================================================================\n",
      "\n",
      "\n",
      "[Epoch 15] 🎲 Échantillonnage: 50,000 positions sur 12,767,881\n"
     ]
    },
    {
     "name": "stderr",
     "output_type": "stream",
     "text": [
      "Epoch 15/20: 100%|██████████| 196/196 [00:03<00:00, 58.49it/s, loss=0.6025]\n"
     ]
    },
    {
     "name": "stdout",
     "output_type": "stream",
     "text": [
      "\n",
      "🔍 Évaluation epoch 15...\n",
      "\n",
      "======================================================================\n",
      "EPOCH 15/20 - Évaluation sur 5,000 positions\n",
      "======================================================================\n",
      "  RMSE:        0.5757  (baseline: 0.8102)\n",
      "  MAE:         0.2515\n",
      "  Amélioration: +28.9% vs baseline\n",
      "  Corrélation: 0.7115\n",
      "  Std preds:   0.4925  (cible: 0.8102)\n",
      "  Mean preds:  0.0307  (cible: 0.0437)\n",
      "  →  Apprentissage en cours\n",
      "======================================================================\n",
      "\n",
      "\n",
      "[Epoch 16] 🎲 Échantillonnage: 50,000 positions sur 12,767,881\n"
     ]
    },
    {
     "name": "stderr",
     "output_type": "stream",
     "text": [
      "Epoch 16/20: 100%|██████████| 196/196 [00:03<00:00, 51.54it/s, loss=0.5955]\n"
     ]
    },
    {
     "name": "stdout",
     "output_type": "stream",
     "text": [
      "\n",
      "🔍 Évaluation epoch 16...\n",
      "\n",
      "======================================================================\n",
      "EPOCH 16/20 - Évaluation sur 5,000 positions\n",
      "======================================================================\n",
      "  RMSE:        0.5425  (baseline: 0.7641)\n",
      "  MAE:         0.2292\n",
      "  Amélioration: +29.0% vs baseline\n",
      "  Corrélation: 0.7071\n",
      "  Std preds:   0.4919  (cible: 0.7641)\n",
      "  Mean preds:  0.0448  (cible: 0.0492)\n",
      "  →  Apprentissage en cours\n",
      "======================================================================\n",
      "\n",
      "\n",
      "[Epoch 17] 🎲 Échantillonnage: 50,000 positions sur 12,767,881\n"
     ]
    },
    {
     "name": "stderr",
     "output_type": "stream",
     "text": [
      "Epoch 17/20: 100%|██████████| 196/196 [00:03<00:00, 56.41it/s, loss=0.6093]\n"
     ]
    },
    {
     "name": "stdout",
     "output_type": "stream",
     "text": [
      "\n",
      "🔍 Évaluation epoch 17...\n",
      "\n",
      "======================================================================\n",
      "EPOCH 17/20 - Évaluation sur 5,000 positions\n",
      "======================================================================\n",
      "  RMSE:        0.6070  (baseline: 0.8401)\n",
      "  MAE:         0.2501\n",
      "  Amélioration: +27.8% vs baseline\n",
      "  Corrélation: 0.7047\n",
      "  Std preds:   0.4790  (cible: 0.8401)\n",
      "  Mean preds:  0.0344  (cible: 0.0525)\n",
      "  →  Apprentissage en cours\n",
      "======================================================================\n",
      "\n",
      "\n",
      "[Epoch 18] 🎲 Échantillonnage: 50,000 positions sur 12,767,881\n"
     ]
    },
    {
     "name": "stderr",
     "output_type": "stream",
     "text": [
      "Epoch 18/20: 100%|██████████| 196/196 [00:03<00:00, 55.42it/s, loss=0.6207]\n"
     ]
    },
    {
     "name": "stdout",
     "output_type": "stream",
     "text": [
      "\n",
      "🔍 Évaluation epoch 18...\n",
      "\n",
      "======================================================================\n",
      "EPOCH 18/20 - Évaluation sur 5,000 positions\n",
      "======================================================================\n",
      "  RMSE:        0.5133  (baseline: 0.7356)\n",
      "  MAE:         0.2289\n",
      "  Amélioration: +30.2% vs baseline\n",
      "  Corrélation: 0.7179\n",
      "  Std preds:   0.4948  (cible: 0.7356)\n",
      "  Mean preds:  0.0310  (cible: 0.0246)\n",
      "  ✓  Bon apprentissage!\n",
      "======================================================================\n",
      "\n",
      "💾 Nouveau meilleur RMSE: 0.5133 - Sauvegarde...\n",
      "Checkpoint PyTorch sauvegardé dans /content/drive/MyDrive/smart_chess_drive/smart-chess/ai/checkpoints/chess_model_checkpoint.pt\n",
      "Poids sauvegardés (npz) dans /content/drive/MyDrive/smart_chess_drive/smart-chess/ai/checkpoints/chess_nn_weights.npz\n",
      "\n",
      "[Epoch 19] 🎲 Échantillonnage: 50,000 positions sur 12,767,881\n"
     ]
    },
    {
     "name": "stderr",
     "output_type": "stream",
     "text": [
      "Epoch 19/20: 100%|██████████| 196/196 [00:03<00:00, 51.78it/s, loss=0.6100]\n"
     ]
    },
    {
     "name": "stdout",
     "output_type": "stream",
     "text": [
      "\n",
      "🔍 Évaluation epoch 19...\n",
      "\n",
      "======================================================================\n",
      "EPOCH 19/20 - Évaluation sur 5,000 positions\n",
      "======================================================================\n",
      "  RMSE:        0.6115  (baseline: 0.8707)\n",
      "  MAE:         0.2560\n",
      "  Amélioration: +29.8% vs baseline\n",
      "  Corrélation: 0.7196\n",
      "  Std preds:   0.5367  (cible: 0.8707)\n",
      "  Mean preds:  0.0456  (cible: 0.0629)\n",
      "  →  Apprentissage en cours\n",
      "======================================================================\n",
      "\n",
      "\n",
      "[Epoch 20] 🎲 Échantillonnage: 50,000 positions sur 12,767,881\n"
     ]
    },
    {
     "name": "stderr",
     "output_type": "stream",
     "text": [
      "Epoch 20/20: 100%|██████████| 196/196 [00:03<00:00, 58.30it/s, loss=0.6055]\n"
     ]
    },
    {
     "name": "stdout",
     "output_type": "stream",
     "text": [
      "\n",
      "🔍 Évaluation epoch 20...\n",
      "\n",
      "======================================================================\n",
      "EPOCH 20/20 - Évaluation sur 5,000 positions\n",
      "======================================================================\n",
      "  RMSE:        0.5411  (baseline: 0.7781)\n",
      "  MAE:         0.2328\n",
      "  Amélioration: +30.5% vs baseline\n",
      "  Corrélation: 0.7265\n",
      "  Std preds:   0.4829  (cible: 0.7781)\n",
      "  Mean preds:  0.0480  (cible: 0.0567)\n",
      "  ✓  Bon apprentissage!\n",
      "======================================================================\n",
      "\n",
      "\n",
      "🎉 Entraînement terminé!\n",
      "📊 Meilleur RMSE: 0.5133\n",
      "\n",
      "💾 Sauvegarde finale...\n",
      "Checkpoint PyTorch sauvegardé dans /content/drive/MyDrive/smart_chess_drive/smart-chess/ai/checkpoints/chess_model_checkpoint.pt\n",
      "Poids sauvegardés (npz) dans /content/drive/MyDrive/smart_chess_drive/smart-chess/ai/checkpoints/chess_nn_weights.npz\n",
      "✅ Modèle sauvegardé dans /content/drive/MyDrive/smart_chess_drive/smart-chess/ai/checkpoints/chess_model_checkpoint.pt et /content/drive/MyDrive/smart_chess_drive/smart-chess/ai/checkpoints/chess_nn_weights.npz\n"
     ]
    }
   ],
   "source": [
    "# @title\n",
    "# Configurer et lancer le script d'entraînement `ai.NN.train_torch` en adaptant les chemins pour Colab/Drive\n",
    "import os\n",
    "import importlib\n",
    "\n",
    "if DATASET_CSV is None:\n",
    "    raise FileNotFoundError(f\"Dataset non trouvé dans: {DATASET_DIR}\")\n",
    "\n",
    "# Importer le module d'entraînement\n",
    "import ai.NN.train_torch as trainer\n",
    "\n",
    "# Reload the module to pick up recent changes\n",
    "importlib.reload(trainer)\n",
    "\n",
    "\n",
    "# Rediriger les chemins dataset et checkpoints vers Drive\n",
    "trainer.DATASET_PATH = DATASET_CSV\n",
    "trainer.CHECKPOINT_FILE = os.path.join(CKPT_DIR, os.path.basename(trainer.CHECKPOINT_FILE))\n",
    "trainer.WEIGHTS_FILE = os.path.join(CKPT_DIR, os.path.basename(trainer.WEIGHTS_FILE))\n",
    "\n",
    "# Harmonisation des tailles de batch (Option B):\n",
    "# On force le module trainer à utiliser la valeur définie dans CONFIG['batch_size']\n",
    "try:\n",
    "    trainer.BATCH_SIZE = CONFIG['batch_size']\n",
    "    print(f'✅ Harmonisation: trainer.BATCH_SIZE = {trainer.BATCH_SIZE}')\n",
    "except Exception as e:\n",
    "    print('⚠️ Impossible de définir trainer.BATCH_SIZE:', e)\n",
    "\n",
    "# --- Apply user-requested global hyperparameter changes ---\n",
    "# Increase hidden layer size to 512 and set per-epoch samples to 200k\n",
    "try:\n",
    "    trainer.HIDDEN_SIZE = 512\n",
    "    trainer.MAX_SAMPLES = 200_000\n",
    "    print(f\"✅ Applied global changes: trainer.HIDDEN_SIZE={trainer.HIDDEN_SIZE}, trainer.MAX_SAMPLES={trainer.MAX_SAMPLES}\")\n",
    "except Exception as e:\n",
    "    print('⚠️ Impossible de définir trainer.HIDDEN_SIZE / trainer.MAX_SAMPLES:', e)\n",
    "\n",
    "# Optionally set other CONFIG parameters from the notebook if needed\n",
    "# trainer.EPOCHS = CONFIG['epochs']\n",
    "# trainer.LEARNING_RATE = CONFIG['learning_rate']\n",
    "# trainer.DEVICE = CONFIG['device']\n",
    "\n",
    "# Optionnel: réduire pour test rapide (décommentez si besoin)\n",
    "# trainer.EPOCHS = 2\n",
    "# trainer.MAX_SAMPLES = 5000\n",
    "\n",
    "print('Configuration trainer:')\n",
    "print(' DATASET_PATH=', trainer.DATASET_PATH)\n",
    "print(' CHECKPOINT_FILE=', trainer.CHECKPOINT_FILE)\n",
    "print(' WEIGHTS_FILE=', trainer.WEIGHTS_FILE)\n",
    "print(' EPOCHS=', trainer.EPOCHS)\n",
    "print(' MAX_SAMPLES=', trainer.MAX_SAMPLES)\n",
    "\n",
    "\n",
    "# Lancer l'entraînement\n",
    "trainer.main()\n"
   ]
  },
  {
   "cell_type": "markdown",
   "id": "f2bf4e17",
   "metadata": {
    "id": "f2bf4e17"
   },
   "source": [
    "## 12. Visualisation des résultats"
   ]
  },
  {
   "cell_type": "code",
   "execution_count": 15,
   "id": "46daebdc",
   "metadata": {
    "cellView": "form",
    "colab": {
     "base_uri": "https://localhost:8080/",
     "height": 645
    },
    "executionInfo": {
     "elapsed": 219,
     "status": "error",
     "timestamp": 1761591363638,
     "user": {
      "displayName": "Gautier de Marsac",
      "userId": "07528850342203083749"
     },
     "user_tz": -60
    },
    "id": "46daebdc",
    "outputId": "882fe31b-65df-44b8-9d1b-a0b7afabdb73"
   },
   "outputs": [
    {
     "ename": "NameError",
     "evalue": "name 'history' is not defined",
     "output_type": "error",
     "traceback": [
      "\u001b[0;31m---------------------------------------------------------------------------\u001b[0m",
      "\u001b[0;31mNameError\u001b[0m                                 Traceback (most recent call last)",
      "\u001b[0;32m/tmp/ipython-input-2834880122.py\u001b[0m in \u001b[0;36m<cell line: 0>\u001b[0;34m()\u001b[0m\n\u001b[1;32m      7\u001b[0m \u001b[0;34m\u001b[0m\u001b[0m\n\u001b[1;32m      8\u001b[0m \u001b[0;31m# Graphique 1: Loss\u001b[0m\u001b[0;34m\u001b[0m\u001b[0;34m\u001b[0m\u001b[0m\n\u001b[0;32m----> 9\u001b[0;31m \u001b[0maxes\u001b[0m\u001b[0;34m[\u001b[0m\u001b[0;36m0\u001b[0m\u001b[0;34m]\u001b[0m\u001b[0;34m.\u001b[0m\u001b[0mplot\u001b[0m\u001b[0;34m(\u001b[0m\u001b[0mhistory\u001b[0m\u001b[0;34m[\u001b[0m\u001b[0;34m'loss'\u001b[0m\u001b[0;34m]\u001b[0m\u001b[0;34m,\u001b[0m \u001b[0mlinewidth\u001b[0m\u001b[0;34m=\u001b[0m\u001b[0;36m2\u001b[0m\u001b[0;34m,\u001b[0m \u001b[0mcolor\u001b[0m\u001b[0;34m=\u001b[0m\u001b[0;34m'#2E86AB'\u001b[0m\u001b[0;34m,\u001b[0m \u001b[0mlabel\u001b[0m\u001b[0;34m=\u001b[0m\u001b[0;34m'Training Loss'\u001b[0m\u001b[0;34m)\u001b[0m\u001b[0;34m\u001b[0m\u001b[0;34m\u001b[0m\u001b[0m\n\u001b[0m\u001b[1;32m     10\u001b[0m \u001b[0maxes\u001b[0m\u001b[0;34m[\u001b[0m\u001b[0;36m0\u001b[0m\u001b[0;34m]\u001b[0m\u001b[0;34m.\u001b[0m\u001b[0mset_xlabel\u001b[0m\u001b[0;34m(\u001b[0m\u001b[0;34m'Époque'\u001b[0m\u001b[0;34m,\u001b[0m \u001b[0mfontsize\u001b[0m\u001b[0;34m=\u001b[0m\u001b[0;36m12\u001b[0m\u001b[0;34m)\u001b[0m\u001b[0;34m\u001b[0m\u001b[0;34m\u001b[0m\u001b[0m\n\u001b[1;32m     11\u001b[0m \u001b[0maxes\u001b[0m\u001b[0;34m[\u001b[0m\u001b[0;36m0\u001b[0m\u001b[0;34m]\u001b[0m\u001b[0;34m.\u001b[0m\u001b[0mset_ylabel\u001b[0m\u001b[0;34m(\u001b[0m\u001b[0;34m'Loss (MSE)'\u001b[0m\u001b[0;34m,\u001b[0m \u001b[0mfontsize\u001b[0m\u001b[0;34m=\u001b[0m\u001b[0;36m12\u001b[0m\u001b[0;34m)\u001b[0m\u001b[0;34m\u001b[0m\u001b[0;34m\u001b[0m\u001b[0m\n",
      "\u001b[0;31mNameError\u001b[0m: name 'history' is not defined"
     ]
    },
    {
     "data": {
      "image/png": "[encoded data removed]",
      "text/plain": [
       "<Figure size 1500x500 with 2 Axes>"
      ]
     },
     "metadata": {},
     "output_type": "display_data"
    }
   ],
   "source": [
    "# @title\n",
    "import matplotlib.pyplot as plt\n",
    "\n",
    "# Configurer le style des graphiques\n",
    "plt.style.use('seaborn-v0_8-darkgrid')\n",
    "fig, axes = plt.subplots(1, 2, figsize=(15, 5))\n",
    "\n",
    "# Graphique 1: Loss\n",
    "axes[0].plot(history['loss'], linewidth=2, color='#2E86AB', label='Training Loss')\n",
    "axes[0].set_xlabel('Époque', fontsize=12)\n",
    "axes[0].set_ylabel('Loss (MSE)', fontsize=12)\n",
    "axes[0].set_title('Évolution de la perte pendant l\\'entraînement', fontsize=14, fontweight='bold')\n",
    "axes[0].legend(fontsize=10)\n",
    "axes[0].grid(True, alpha=0.3)\n",
    "\n",
    "# Afficher les valeurs min/max\n",
    "min_loss = min(history['loss'])\n",
    "max_loss = max(history['loss'])\n",
    "axes[0].axhline(y=min_loss, color='green', linestyle='--', alpha=0.5, label=f'Min: {min_loss:.6f}')\n",
    "axes[0].legend(fontsize=10)\n",
    "\n",
    "# Graphique 2: MAE (si disponible)\n",
    "if 'mae' in history:\n",
    "    axes[1].plot(history['mae'], linewidth=2, color='#F77F00', label='MAE')\n",
    "    axes[1].set_xlabel('Époque', fontsize=12)\n",
    "    axes[1].set_ylabel('MAE', fontsize=12)\n",
    "    axes[1].set_title('Erreur absolue moyenne', fontsize=14, fontweight='bold')\n",
    "    axes[1].legend(fontsize=10)\n",
    "    axes[1].grid(True, alpha=0.3)\n",
    "\n",
    "    min_mae = min(history['mae'])\n",
    "    axes[1].axhline(y=min_mae, color='green', linestyle='--', alpha=0.5, label=f'Min: {min_mae:.6f}')\n",
    "    axes[1].legend(fontsize=10)\n",
    "else:\n",
    "    axes[1].text(0.5, 0.5, 'MAE non disponible',\n",
    "                ha='center', va='center', fontsize=14, transform=axes[1].transAxes)\n",
    "    axes[1].set_xticks([])\n",
    "    axes[1].set_yticks([])\n",
    "\n",
    "plt.tight_layout()\n",
    "plt.savefig('training_history.png', dpi=150, bbox_inches='tight')\n",
    "plt.show()\n",
    "\n",
    "# Afficher les statistiques finales\n",
    "print(\"\\n\" + \"=\" * 60)\n",
    "print(\"STATISTIQUES FINALES\")\n",
    "print(\"=\" * 60)\n",
    "print(f\"Perte finale: {history['loss'][-1]:.6f}\")\n",
    "print(f\"Perte minimale: {min_loss:.6f} (époque {history['loss'].index(min_loss) + 1})\")\n",
    "if 'mae' in history:\n",
    "    print(f\"MAE final: {history['mae'][-1]:.6f}\")\n",
    "    print(f\"MAE minimal: {min_mae:.6f} (époque {history['mae'].index(min_mae) + 1})\")\n",
    "print(\"=\" * 60)"
   ]
  },
  {
   "cell_type": "markdown",
   "id": "859f7779",
   "metadata": {
    "id": "859f7779"
   },
   "source": [
    "## 13. Sauvegarde du modèle final"
   ]
  },
  {
   "cell_type": "code",
   "execution_count": null,
   "id": "b0c6f55e",
   "metadata": {
    "cellView": "form",
    "executionInfo": {
     "elapsed": 1,
     "status": "aborted",
     "timestamp": 1761591363642,
     "user": {
      "displayName": "Gautier de Marsac",
      "userId": "07528850342203083749"
     },
     "user_tz": -60
    },
    "id": "b0c6f55e"
   },
   "outputs": [],
   "source": [
    "# @title\n",
    "import datetime\n",
    "\n",
    "# Timestamp pour identifier cette sauvegarde\n",
    "timestamp = datetime.datetime.now().strftime(\"%Y%m%d_%H%M%S\")\n",
    "\n",
    "# Sauvegarder le modèle complet avec l'historique\n",
    "final_model_path = f'ai/chess_model_final_{timestamp}.pt'\n",
    "torch.save({\n",
    "    'epoch': CONFIG['epochs'],\n",
    "    'model_state_dict': model.state_dict(),\n",
    "    'config': CONFIG,\n",
    "    'history': history,\n",
    "    'timestamp': timestamp,\n",
    "}, final_model_path)\n",
    "\n",
    "print(\"=\" * 60)\n",
    "print(\"SAUVEGARDE DES MODÈLES\")\n",
    "print(\"=\" * 60)\n",
    "print(f\"✓ Modèle final: {final_model_path}\")\n",
    "\n",
    "# Sauvegarder aussi au format .npz pour compatibilité avec l'ancien code\n",
    "weights_path = 'ai/NN/chess_nn_weights.npz'\n",
    "weights = {name: param.cpu().detach().numpy() for name, param in model.named_parameters()}\n",
    "np.savez(weights_path, **weights)\n",
    "print(f\"✓ Poids .npz: {weights_path}\")\n",
    "\n",
    "# Copier aussi le checkpoint dans NN/\n",
    "import shutil\n",
    "checkpoint_backup = f'ai/NN/chess_model_checkpoint_{timestamp}.pt'\n",
    "if os.path.exists(CONFIG['checkpoint_path']):\n",
    "    shutil.copy(CONFIG['checkpoint_path'], checkpoint_backup)\n",
    "    print(f\"✓ Checkpoint backup: {checkpoint_backup}\")\n",
    "\n",
    "print(\"=\" * 60)\n",
    "print(\"\\n✅ Tous les fichiers sont sauvegardés sur votre Google Drive!\")\n",
    "print(f\"   Chemin: {PROJECT_PATH}\")"
   ]
  },
  {
   "cell_type": "markdown",
   "id": "c4bfd244",
   "metadata": {
    "id": "c4bfd244"
   },
   "source": [
    "## 14. Test du modèle sur des positions aléatoires"
   ]
  },
  {
   "cell_type": "code",
   "execution_count": null,
   "id": "b0315c06",
   "metadata": {
    "cellView": "form",
    "executionInfo": {
     "elapsed": 2,
     "status": "aborted",
     "timestamp": 1761591363653,
     "user": {
      "displayName": "Gautier de Marsac",
      "userId": "07528850342203083749"
     },
     "user_tz": -60
    },
    "id": "b0315c06"
   },
   "outputs": [],
   "source": [
    "# @title\n",
    "# Passer le modèle en mode évaluation\n",
    "model.eval()\n",
    "\n",
    "# Tester sur quelques positions aléatoires\n",
    "num_tests = 10\n",
    "test_indices = np.random.choice(len(X_train), num_tests, replace=False)\n",
    "\n",
    "print(\"=\" * 60)\n",
    "print(f\"TEST SUR {num_tests} POSITIONS ALÉATOIRES\")\n",
    "print(\"=\" * 60)\n",
    "\n",
    "errors = []\n",
    "\n",
    "with torch.no_grad():\n",
    "    for i, idx in enumerate(test_indices, 1):\n",
    "        x = torch.FloatTensor(X_train[idx:idx+1]).to(CONFIG['device'])\n",
    "        y_true = y_train[idx]\n",
    "        y_pred = model(x).cpu().numpy()[0, 0]\n",
    "        error = abs(y_true - y_pred)\n",
    "        errors.append(error)\n",
    "\n",
    "        print(f\"\\nPosition {i}:\")\n",
    "        print(f\"  Évaluation réelle:  {y_true:+8.4f}\")\n",
    "        print(f\"  Prédiction modèle:  {y_pred:+8.4f}\")\n",
    "        print(f\"  Erreur absolue:     {error:8.4f}\")\n",
    "\n",
    "        # Indicateur visuel de la qualité\n",
    "        if error < 0.1:\n",
    "            print(f\"  Qualité: ✅ Excellente\")\n",
    "        elif error < 0.3:\n",
    "            print(f\"  Qualité: ✓ Bonne\")\n",
    "        elif error < 0.5:\n",
    "            print(f\"  Qualité: ⚠ Moyenne\")\n",
    "        else:\n",
    "            print(f\"  Qualité: ❌ Faible\")\n",
    "\n",
    "print(\"\\n\" + \"=\" * 60)\n",
    "print(\"STATISTIQUES DES TESTS\")\n",
    "print(\"=\" * 60)\n",
    "print(f\"Erreur moyenne: {np.mean(errors):.4f}\")\n",
    "print(f\"Erreur médiane: {np.median(errors):.4f}\")\n",
    "print(f\"Erreur min:     {np.min(errors):.4f}\")\n",
    "print(f\"Erreur max:     {np.max(errors):.4f}\")\n",
    "print(f\"Écart-type:     {np.std(errors):.4f}\")\n",
    "print(\"=\" * 60)"
   ]
  },
  {
   "cell_type": "markdown",
   "id": "30e9184e",
   "metadata": {
    "id": "30e9184e"
   },
   "source": [
    "## 15. Résumé et fichiers générés"
   ]
  },
  {
   "cell_type": "code",
   "execution_count": null,
   "id": "cb92229a",
   "metadata": {
    "cellView": "form",
    "executionInfo": {
     "elapsed": 0,
     "status": "aborted",
     "timestamp": 1761591363658,
     "user": {
      "displayName": "Gautier de Marsac",
      "userId": "07528850342203083749"
     },
     "user_tz": -60
    },
    "id": "cb92229a"
   },
   "outputs": [],
   "source": [
    "# @title\n",
    "print(\"\\n\" + \"=\"*60)\n",
    "print(\"📊 RÉSUMÉ DE L'ENTRAÎNEMENT\")\n",
    "print(\"=\"*60)\n",
    "print(f\"\\n📍 Projet: {PROJECT_PATH}\")\n",
    "print(f\"\\n⚙️ Configuration:\")\n",
    "print(f\"   • Parties générées: {CONFIG['num_games']:,}\")\n",
    "print(f\"   • Positions d'entraînement: {len(X_train):,}\")\n",
    "print(f\"   • Époques: {CONFIG['epochs']}\")\n",
    "print(f\"   • Batch size: {CONFIG['batch_size']}\")\n",
    "print(f\"   • Learning rate: {CONFIG['learning_rate']}\")\n",
    "print(f\"   • Device: {CONFIG['device']}\")\n",
    "\n",
    "print(f\"\\n📈 Résultats:\")\n",
    "print(f\"   • Perte finale: {history['loss'][-1]:.6f}\")\n",
    "print(f\"   • Perte minimale: {min(history['loss']):.6f}\")\n",
    "if 'mae' in history:\n",
    "    print(f\"   • MAE final: {history['mae'][-1]:.6f}\")\n",
    "\n",
    "print(f\"\\n💾 Fichiers sauvegardés sur Drive:\")\n",
    "files_to_check = [\n",
    "    final_model_path,\n",
    "    CONFIG['checkpoint_path'],\n",
    "    weights_path,\n",
    "    'training_history.png'\n",
    "]\n",
    "\n",
    "for filepath in files_to_check:\n",
    "    if os.path.exists(filepath):\n",
    "        size = os.path.getsize(filepath) / (1024 * 1024)  # Convertir en MB\n",
    "        print(f\"   ✓ {filepath} ({size:.2f} MB)\")\n",
    "    else:\n",
    "        print(f\"   ✗ {filepath} (non trouvé)\")\n",
    "\n",
    "print(\"\\n\" + \"=\"*60)\n",
    "print(\"✅ ENTRAÎNEMENT TERMINÉ AVEC SUCCÈS!\")\n",
    "print(\"=\"*60)\n",
    "print(\"\\nTous les fichiers sont automatiquement synchronisés avec votre Google Drive.\")\n",
    "print(\"Vous pouvez fermer ce notebook en toute sécurité.\\n\")"
   ]
  },
  {
   "cell_type": "code",
   "execution_count": null,
   "id": "eb4536d8",
   "metadata": {
    "cellView": "form",
    "executionInfo": {
     "elapsed": 3,
     "status": "aborted",
     "timestamp": 1761591363666,
     "user": {
      "displayName": "Gautier de Marsac",
      "userId": "07528850342203083749"
     },
     "user_tz": -60
    },
    "id": "eb4536d8"
   },
   "outputs": [],
   "source": [
    "# @title\n",
    "import os\n",
    "\n",
    "checkpoint_file = '/content/drive/MyDrive/smart_chess_drive/smart-chess/ai/checkpoints/chess_model_checkpoint.pt'\n",
    "\n",
    "if os.path.exists(checkpoint_file):\n",
    "    print(f\"Removing existing checkpoint file: {checkpoint_file}\")\n",
    "    os.remove(checkpoint_file)\n",
    "    print(\"Checkpoint removed.\")\n",
    "else:\n",
    "    print(f\"No checkpoint file found at {checkpoint_file}. No action needed.\")"
   ]
  },
  {
   "cell_type": "code",
   "execution_count": null,
   "id": "e971f1dc",
   "metadata": {
    "cellView": "form",
    "executionInfo": {
     "elapsed": 1,
     "status": "aborted",
     "timestamp": 1761591363671,
     "user": {
      "displayName": "Gautier de Marsac",
      "userId": "07528850342203083749"
     },
     "user_tz": -60
    },
    "id": "e971f1dc"
   },
   "outputs": [],
   "source": [
    "# @title\n",
    "# Smoke tests automatisés — 3 runs courts pour comparer configurations\n",
    "# - Crée une validation fixe, lance 3 expériences courtes (EPOCHS=3, MAX_SAMPLES=100k)\n",
    "# - Sauvegarde checkpoints séparés et évalue chaque modèle sur la validation fixe\n",
    "\n",
    "import time\n",
    "import importlib\n",
    "import os\n",
    "import numpy as np\n",
    "from torch.utils.data import DataLoader\n",
    "\n",
    "print('Lancement des smoke tests (rapides).\\n')\n",
    "\n",
    "# Vérifier dataset et données en mémoire\n",
    "if 'X_train' not in globals() or 'y_train' not in globals():\n",
    "    print('X_train/y_train non trouvés en mémoire — chargement léger depuis trainer.DATASET_PATH (peut prendre du temps)...')\n",
    "    fens, evaluations = trainer.load_data(trainer.DATASET_PATH)\n",
    "    X_train = fens\n",
    "    y_train = evaluations\n",
    "\n",
    "# Créer validation fixe (seed deterministe)\n",
    "val_size = min(5000, len(X_train))\n",
    "rs = np.random.RandomState(42)\n",
    "val_idx = rs.choice(len(X_train), size=val_size, replace=False)\n",
    "val_fens = X_train[val_idx]\n",
    "val_targets = y_train[val_idx]\n",
    "print(f'Validation fixe : {val_size} positions (seed=42)')\n",
    "\n",
    "# Sauvegarder originaux pour restauration\n",
    "orig_keys = ['HIDDEN_SIZE','DROPOUT','LEARNING_RATE','WEIGHT_DECAY','BATCH_SIZE','EPOCHS','MAX_SAMPLES','CHECKPOINT_FILE','WEIGHTS_FILE','EVAL_MAX_SAMPLES']\n",
    "orig = {k: getattr(trainer, k) for k in orig_keys if hasattr(trainer, k)}\n",
    "\n",
    "# Expériences à tester (changes applied on top of orig)\n",
    "experiments = [\n",
    "    {'name': 'baseline', 'HIDDEN_SIZE': orig.get('HIDDEN_SIZE', 256), 'DROPOUT': orig.get('DROPOUT', 0.3), 'LEARNING_RATE': orig.get('LEARNING_RATE', 0.001)},\n",
    "    {'name': 'bigger', 'HIDDEN_SIZE': 512, 'DROPOUT': 0.2, 'LEARNING_RATE': 5e-4},\n",
    "    {'name': 'smaller_lr', 'HIDDEN_SIZE': 512, 'DROPOUT': 0.2, 'LEARNING_RATE': 1e-4},\n",
    "]\n",
    "\n",
    "results = []\n",
    "\n",
    "for exp in experiments:\n",
    "    print('\\n' + '='*80)\n",
    "    print(f\"Exp: {exp['name']}\")\n",
    "    print('='*80)\n",
    "\n",
    "    # Set quick test params\n",
    "    trainer.EPOCHS = 3\n",
    "    trainer.MAX_SAMPLES = 100_000\n",
    "    trainer.EVAL_MAX_SAMPLES = 2000\n",
    "\n",
    "    # Apply experiment overrides\n",
    "    trainer.HIDDEN_SIZE = exp['HIDDEN_SIZE']\n",
    "    trainer.DROPOUT = exp['DROPOUT']\n",
    "    trainer.LEARNING_RATE = exp['LEARNING_RATE']\n",
    "\n",
    "    # Use separate checkpoint/weights files to avoid overwriting\n",
    "    ckpt_path = os.path.join(CKPT_DIR, f\"smoke_{exp['name']}.pt\")\n",
    "    weights_path = os.path.join(CKPT_DIR, f\"smoke_{exp['name']}.npz\")\n",
    "    trainer.CHECKPOINT_FILE = ckpt_path\n",
    "    trainer.WEIGHTS_FILE = weights_path\n",
    "\n",
    "    print('Parameters:')\n",
    "    print(f\" HIDDEN_SIZE={trainer.HIDDEN_SIZE}, DROPOUT={trainer.DROPOUT}, LR={trainer.LEARNING_RATE}\")\n",
    "    print(f\" EPOCHS={trainer.EPOCHS}, MAX_SAMPLES={trainer.MAX_SAMPLES}\")\n",
    "    print(f\" CHECKPOINT -> {trainer.CHECKPOINT_FILE}\")\n",
    "\n",
    "    # Run training (blocking)\n",
    "    t0 = time.time()\n",
    "    try:\n",
    "        trainer.main()\n",
    "    except Exception as e:\n",
    "        print('Erreur pendant trainer.main():', e)\n",
    "        # continue to evaluation attempt (if checkpoint exists)\n",
    "    t1 = time.time()\n",
    "    print(f\"Run time: {t1-t0:.1f}s\")\n",
    "\n",
    "    # Load model from checkpoint\n",
    "    try:\n",
    "        model = trainer.TorchNNEvaluator(hidden_size=trainer.HIDDEN_SIZE, dropout=trainer.DROPOUT, leaky_alpha=trainer.LEAKY_ALPHA)\n",
    "        optimizer = trainer.optim.AdamW(model.parameters(), lr=trainer.LEARNING_RATE, weight_decay=trainer.WEIGHT_DECAY)\n",
    "        model, optim_state, step = trainer.torch_load_checkpoint(trainer.CHECKPOINT_FILE, model, optimizer, device=trainer.DEVICE)\n",
    "\n",
    "        # Evaluation on fixed val set\n",
    "        eval_dataset = trainer.ChessDataset(val_fens, val_targets)\n",
    "        eval_loader = DataLoader(eval_dataset, batch_size=max(1, trainer.BATCH_SIZE//2), shuffle=False)\n",
    "        rmse, mae, corr, preds, targets = trainer.evaluate_model(model, eval_loader, trainer.DEVICE)\n",
    "        print(f\"Eval results — RMSE: {rmse:.4f}, MAE: {mae:.4f}, Corr: {corr:.4f}\")\n",
    "        results.append({'exp': exp['name'], 'rmse': rmse, 'mae': mae, 'corr': corr})\n",
    "    except FileNotFoundError:\n",
    "        print('Checkpoint not found, skipping evaluation for this experiment.')\n",
    "        results.append({'exp': exp['name'], 'rmse': None, 'mae': None, 'corr': None})\n",
    "    except Exception as e:\n",
    "        print('Erreur lors de l\\'évaluation:', e)\n",
    "        results.append({'exp': exp['name'], 'rmse': None, 'mae': None, 'corr': None})\n",
    "\n",
    "# Restore original trainer settings\n",
    "for k, v in orig.items():\n",
    "    setattr(trainer, k, v)\n",
    "\n",
    "print('\\n' + '='*80)\n",
    "print('Résumé des smoke tests:')\n",
    "for r in results:\n",
    "    print(r)\n",
    "print('='*80)\n",
    "\n",
    "# End of smoke tests\n"
   ]
  },
  {
   "cell_type": "code",
   "execution_count": null,
   "id": "e967c73b",
   "metadata": {
    "cellView": "form",
    "executionInfo": {
     "elapsed": 1,
     "status": "aborted",
     "timestamp": 1761591363675,
     "user": {
      "displayName": "Gautier de Marsac",
      "userId": "07528850342203083749"
     },
     "user_tz": -60
    },
    "id": "e967c73b"
   },
   "outputs": [],
   "source": [
    "# @title\n",
    "# Smoke-extended paramétrable — runs répétés et mode rapide\n",
    "# Usage:\n",
    "# - régler FAST_MODE=True pour itérations ultra-rapides (EPOCHS=1, MAX_SAMPLES=20k)\n",
    "# - régler REPS pour répéter chaque expérience sur plusieurs seeds\n",
    "\n",
    "import time\n",
    "import os\n",
    "import numpy as np\n",
    "import pandas as pd\n",
    "from torch.utils.data import DataLoader\n",
    "\n",
    "print('\\n=== Smoke-extended démarré ===')\n",
    "\n",
    "# Paramètres utilisateur\n",
    "FAST_MODE = False        # True -> very fast (useful for quick checks)\n",
    "EPOCHS_EXT = 5\n",
    "MAX_SAMPLES_EXT = 200_000\n",
    "REPS = 1                # nombre de répétitions par configuration\n",
    "BASE_SEED = 42\n",
    "\n",
    "if FAST_MODE:\n",
    "    EPOCHS_EXT = 1\n",
    "    MAX_SAMPLES_EXT = 20_000\n",
    "\n",
    "print(f\"FAST_MODE={FAST_MODE}, EPOCHS={EPOCHS_EXT}, MAX_SAMPLES={MAX_SAMPLES_EXT}, REPS={REPS}\")\n",
    "\n",
    "# Vérifier que trainer est chargé\n",
    "if 'trainer' not in globals():\n",
    "    raise RuntimeError('Le module trainer (ai.NN.train_torch) doit être importé avant d\\'exécuter cette cellule.')\n",
    "\n",
    "# Charger données si nécessaire\n",
    "if 'X_train' not in globals() or 'y_train' not in globals():\n",
    "    print('X_train/y_train non présents en mémoire — chargement via trainer.load_data(...) (peut être long)')\n",
    "    fens, evaluations = trainer.load_data(trainer.DATASET_PATH)\n",
    "    X_train = fens\n",
    "    y_train = evaluations\n",
    "\n",
    "# Création d'une validation fixe\n",
    "val_size = min(5000, len(X_train))\n",
    "rs = np.random.RandomState(42)\n",
    "val_idx = rs.choice(len(X_train), size=val_size, replace=False)\n",
    "val_fens = X_train[val_idx]\n",
    "val_targets = y_train[val_idx]\n",
    "print(f'Validation fixe : {val_size} positions (seed=42)')\n",
    "\n",
    "# Conserver paramètres originaux\n",
    "orig_keys = ['HIDDEN_SIZE','DROPOUT','LEARNING_RATE','WEIGHT_DECAY','BATCH_SIZE','EPOCHS','MAX_SAMPLES','CHECKPOINT_FILE','WEIGHTS_FILE','EVAL_MAX_SAMPLES']\n",
    "orig = {k: getattr(trainer, k) for k in orig_keys if hasattr(trainer, k)}\n",
    "\n",
    "# Expériences à tester\n",
    "experiments = [\n",
    "    {'name': 'baseline', 'HIDDEN_SIZE': orig.get('HIDDEN_SIZE', 256), 'DROPOUT': orig.get('DROPOUT', 0.3), 'LEARNING_RATE': orig.get('LEARNING_RATE', 0.001)},\n",
    "    {'name': 'bigger', 'HIDDEN_SIZE': 512, 'DROPOUT': 0.2, 'LEARNING_RATE': 5e-4},\n",
    "    {'name': 'smaller_lr', 'HIDDEN_SIZE': 512, 'DROPOUT': 0.2, 'LEARNING_RATE': 1e-4},\n",
    "]\n",
    "\n",
    "results = []\n",
    "\n",
    "for exp in experiments:\n",
    "    for rep in range(REPS):\n",
    "        seed = BASE_SEED + rep\n",
    "        run_name = f\"{exp['name']}_r{rep+1}_s{seed}\"\n",
    "        print('\\n' + '='*80)\n",
    "        print(f\"Run: {run_name}\")\n",
    "        print('='*80)\n",
    "\n",
    "        # appliquer paramètres rapides\n",
    "        trainer.EPOCHS = EPOCHS_EXT\n",
    "        trainer.MAX_SAMPLES = MAX_SAMPLES_EXT\n",
    "        trainer.EVAL_MAX_SAMPLES = min(2000, MAX_SAMPLES_EXT//50)\n",
    "\n",
    "        # appliquer overrides de l'expérience\n",
    "        trainer.HIDDEN_SIZE = exp['HIDDEN_SIZE']\n",
    "        trainer.DROPOUT = exp['DROPOUT']\n",
    "        trainer.LEARNING_RATE = exp['LEARNING_RATE']\n",
    "\n",
    "        # checkpoints séparés\n",
    "        ckpt_path = os.path.join(CKPT_DIR, f\"smoke_ext_{run_name}.pt\")\n",
    "        weights_path = os.path.join(CKPT_DIR, f\"smoke_ext_{run_name}.npz\")\n",
    "        trainer.CHECKPOINT_FILE = ckpt_path\n",
    "        trainer.WEIGHTS_FILE = weights_path\n",
    "\n",
    "        print('Params:', f\"H={trainer.HIDDEN_SIZE}, dropout={trainer.DROPOUT}, lr={trainer.LEARNING_RATE}\")\n",
    "        print('Run params:', f\"EPOCHS={trainer.EPOCHS}, MAX_SAMPLES={trainer.MAX_SAMPLES}\")\n",
    "        print('Checkpoint:', trainer.CHECKPOINT_FILE)\n",
    "\n",
    "        # Fix seeds where possible\n",
    "        try:\n",
    "            import torch\n",
    "            np.random.seed(seed)\n",
    "            torch.manual_seed(seed)\n",
    "            if trainer.DEVICE and 'cuda' in str(trainer.DEVICE):\n",
    "                torch.cuda.manual_seed_all(seed)\n",
    "        except Exception:\n",
    "            pass\n",
    "\n",
    "        t0 = time.time()\n",
    "        try:\n",
    "            trainer.main()\n",
    "        except Exception as e:\n",
    "            print('Erreur pendant trainer.main():', e)\n",
    "        t1 = time.time()\n",
    "        print(f'Run time: {t1-t0:.1f}s')\n",
    "\n",
    "        # Évaluation sur la validation fixe\n",
    "        try:\n",
    "            model = trainer.TorchNNEvaluator(hidden_size=trainer.HIDDEN_SIZE, dropout=trainer.DROPOUT, leaky_alpha=getattr(trainer,'LEAKY_ALPHA',0.01))\n",
    "            optimizer = trainer.optim.AdamW(model.parameters(), lr=trainer.LEARNING_RATE, weight_decay=getattr(trainer,'WEIGHT_DECAY',1e-4))\n",
    "            model, opt_state, step = trainer.torch_load_checkpoint(trainer.CHECKPOINT_FILE, model, optimizer, device=trainer.DEVICE)\n",
    "\n",
    "            eval_dataset = trainer.ChessDataset(val_fens, val_targets)\n",
    "            eval_loader = DataLoader(eval_dataset, batch_size=max(1, trainer.BATCH_SIZE//2), shuffle=False)\n",
    "            rmse, mae, corr, preds, targets = trainer.evaluate_model(model, eval_loader, trainer.DEVICE)\n",
    "            print(f\"Eval — RMSE: {rmse:.4f}, MAE: {mae:.4f}, Corr: {corr:.4f}\")\n",
    "            results.append({'run': run_name, 'exp': exp['name'], 'seed': seed, 'rmse': rmse, 'mae': mae, 'corr': corr, 'ckpt': trainer.CHECKPOINT_FILE})\n",
    "        except FileNotFoundError:\n",
    "            print('Checkpoint introuvable, évaluation sautée.')\n",
    "            results.append({'run': run_name, 'exp': exp['name'], 'seed': seed, 'rmse': None, 'mae': None, 'corr': None, 'ckpt': trainer.CHECKPOINT_FILE})\n",
    "        except Exception as e:\n",
    "            print('Erreur pendant l\\'évaluation:', e)\n",
    "            results.append({'run': run_name, 'exp': exp['name'], 'seed': seed, 'rmse': None, 'mae': None, 'corr': None, 'ckpt': trainer.CHECKPOINT_FILE})\n",
    "\n",
    "# Restaurer paramètres d'origine\n",
    "for k, v in orig.items():\n",
    "    setattr(trainer, k, v)\n",
    "\n",
    "print('\\n=== Résumé smoke-extended ===')\n",
    "df = pd.DataFrame(results)\n",
    "print(df)\n",
    "\n",
    "# Sauvegarder résumé csv\n",
    "summary_path = os.path.join(CKPT_DIR, 'smoke_extended_summary.csv')\n",
    "df.to_csv(summary_path, index=False)\n",
    "print('Résumé sauvegardé dans', summary_path)\n"
   ]
  }
 ],
 "metadata": {
  "accelerator": "GPU",
  "colab": {
   "gpuType": "T4",
   "provenance": []
  },
  "kernelspec": {
   "display_name": "Python 3",
   "name": "python3"
  },
  "language_info": {
   "codemirror_mode": {
    "name": "ipython",
    "version": 3
   },
   "file_extension": ".py",
   "mimetype": "text/x-python",
   "name": "python",
   "nbconvert_exporter": "python",
   "pygments_lexer": "ipython3",
   "version": "3.13.2"
  }
 },
 "nbformat": 4,
 "nbformat_minor": 5
}
